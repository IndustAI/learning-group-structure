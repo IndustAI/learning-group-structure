{
 "cells": [
  {
   "cell_type": "markdown",
   "metadata": {
    "colab_type": "text",
    "id": "4IPkykjfAeDx"
   },
   "source": [
    "# Learning disentangled representations in 'grid-world'\n",
    "\n",
    "This is a simplified implementation of Flatland (see the flatland notebook). Here, we use our method to learn representations of a 2D periodic gridworld."
   ]
  },
  {
   "cell_type": "markdown",
   "metadata": {
    "colab_type": "text",
    "id": "HhDLRMM7AeDy"
   },
   "source": [
    "## 1. Preamble"
   ]
  },
  {
   "cell_type": "code",
   "execution_count": 1,
   "metadata": {
    "colab": {
     "base_uri": "https://localhost:8080/",
     "height": 34
    },
    "colab_type": "code",
    "id": "EdlZYihnAeDz",
    "outputId": "698b4884-09d3-499e-c184-a72028a83bde"
   },
   "outputs": [],
   "source": [
    "import os\n",
    "\n",
    "import torch\n",
    "import random\n",
    "import torch.nn as nn\n",
    "import torch.nn.functional as F\n",
    "import torch.optim as optim\n",
    "import numpy as np\n",
    "import matplotlib.pyplot as plt\n",
    "\n",
    "import time\n",
    "from IPython import display"
   ]
  },
  {
   "cell_type": "code",
   "execution_count": 2,
   "metadata": {
    "colab": {},
    "colab_type": "code",
    "id": "_ROsYyPSAeD2"
   },
   "outputs": [],
   "source": [
    "def mk_dir(export_dir, quite=False):\n",
    "    if not os.path.exists(export_dir):\n",
    "            try:\n",
    "                os.makedirs(export_dir)\n",
    "                print('created dir: ', export_dir)\n",
    "            except OSError as exc: # Guard against race condition\n",
    "                 if exc.errno != exc.errno.EEXIST:\n",
    "                    raise\n",
    "            except Exception:\n",
    "                pass\n",
    "    else:\n",
    "        print('dir already exists: ', export_dir)"
   ]
  },
  {
   "cell_type": "markdown",
   "metadata": {
    "colab_type": "text",
    "id": "qAt1HyxhAeD4"
   },
   "source": [
    "## 2. Defining objects"
   ]
  },
  {
   "cell_type": "markdown",
   "metadata": {
    "colab_type": "text",
    "id": "HtbtbDuwAeD5"
   },
   "source": [
    "### GridWorld environment\n",
    "\n",
    "First I'll define the GridWorld environment to work in.  The basic idea is that the ball is on a 2-d grid with $n$ discrete points in each dimension.  The available actions step the ball one step in each direction (i.e. there are 4 actions: up/down/left/right).\n",
    "\n",
    "The observations returned are just an $n \\times n$ matrix, with zeros everywhere except where the ball is, which is 1."
   ]
  },
  {
   "cell_type": "code",
   "execution_count": 3,
   "metadata": {
    "colab": {},
    "colab_type": "code",
    "id": "UMkl4C23AeD6"
   },
   "outputs": [],
   "source": [
    "class GridWorld():\n",
    "    \n",
    "    class action_space():\n",
    "        def __init__(self,n_actions):\n",
    "            self.n = n_actions\n",
    "            \n",
    "        def sample(self, k=1):\n",
    "            return torch.randint(0,self.n,(k,))       \n",
    "\n",
    "    class observation_space():\n",
    "        def __init__(self,n_features):\n",
    "            self.shape = [n_features]\n",
    "    \n",
    "    def __init__(self,dim=5):\n",
    "\n",
    "        self.dim = dim\n",
    "\n",
    "        self.action_space = self.action_space(4)\n",
    "        self.observation_space = self.observation_space(dim**2)\n",
    "        \n",
    "        self.reset()\n",
    "        \n",
    "    def reset(self):\n",
    "        self.ball_coordinates = [random.randrange(self.dim), random.randrange(self.dim)]\n",
    "        self.state = self.get_state()\n",
    "        return self.get_observation()\n",
    "    \n",
    "    def get_state(self, ball_coordinates=None):\n",
    "        if ball_coordinates is None:\n",
    "            ball_coordinates=self.ball_coordinates\n",
    "            \n",
    "        state = torch.zeros((self.dim,self.dim))\n",
    "        state[ball_coordinates[0],ball_coordinates[1]] = 1\n",
    "        \n",
    "        return state\n",
    "    \n",
    "    def get_observation(self):\n",
    "        return self.state.flatten()\n",
    "    \n",
    "    def step(self,action):\n",
    "\n",
    "        if action == 0:\n",
    "            self.ball_coordinates[0] = (self.ball_coordinates[0] + 1)%self.dim\n",
    "        elif action == 1:\n",
    "            self.ball_coordinates[0] = (self.ball_coordinates[0] - 1)%self.dim\n",
    "        elif action == 2:\n",
    "            self.ball_coordinates[1] = (self.ball_coordinates[1] + 1)%self.dim\n",
    "        elif action == 3:\n",
    "            self.ball_coordinates[1] = (self.ball_coordinates[1] - 1)%self.dim\n",
    "        else:\n",
    "            raise Exception(\"Invalid action.\")\n",
    "\n",
    "        self.state = self.get_state()\n",
    "\n",
    "        return self.get_observation()"
   ]
  },
  {
   "cell_type": "markdown",
   "metadata": {},
   "source": [
    "Now show a few consecutive states from this gridworld"
   ]
  },
  {
   "cell_type": "code",
   "execution_count": 4,
   "metadata": {
    "colab": {
     "base_uri": "https://localhost:8080/",
     "height": 79
    },
    "colab_type": "code",
    "id": "WYF6D4UAAeD7",
    "outputId": "211e95d6-9174-420e-8b26-0fbac68e4a1d"
   },
   "outputs": [
    {
     "data": {
      "image/png": "[encoded data removed]",
      "text/plain": [
       "<Figure size 216x216 with 9 Axes>"
      ]
     },
     "metadata": {
      "needs_background": "light"
     },
     "output_type": "display_data"
    }
   ],
   "source": [
    "import matplotlib.gridspec as gridspec\n",
    "\n",
    "env = GridWorld(dim=10)\n",
    "plt.figure(figsize = (3,3))\n",
    "gs1 = gridspec.GridSpec(3, 3)\n",
    "gs1.update(wspace=0.02, hspace=0.02)\n",
    "plt.grid(None)\n",
    "state = env.reset()\n",
    "for i in range(9):\n",
    "    ax = plt.subplot(gs1[i])\n",
    "    ax.axis('off')\n",
    "    ax.set_aspect('equal')\n",
    "    ax.imshow(env.state)\n",
    "    display.display(plt.gcf())\n",
    "    time.sleep(0.2)\n",
    "    display.clear_output(wait=True)\n",
    "    action = random.sample([0,1,2,3],k=1)[0]\n",
    "    action = 0\n",
    "    state = env.step(action)\n",
    "    \n",
    "plt.savefig(\"env.png\", bbox_inches='tight')"
   ]
  },
  {
   "cell_type": "markdown",
   "metadata": {
    "colab_type": "text",
    "id": "Gzsh-zbdAeD9"
   },
   "source": [
    "### Latent space\n",
    "\n",
    "**Encoder/Decoder**\n",
    "\n",
    "Now we want to learn to represent this environment in some latent space (which we, for now, simply assume to be 4-dimensional).  We will require both an encoder and decoder, and we use simple MLPs."
   ]
  },
  {
   "cell_type": "code",
   "execution_count": 5,
   "metadata": {
    "colab": {},
    "colab_type": "code",
    "id": "KQlDE5IlAeD-"
   },
   "outputs": [],
   "source": [
    "class Coder(nn.Module):\n",
    "\n",
    "    def __init__(self, n_in, n_out, n_hid=[32], output_activation=nn.Sigmoid):\n",
    "        super().__init__()\n",
    "        \n",
    "        if type(n_hid) != list:\n",
    "            n_hid = [n_hid]\n",
    "        n_layers = [n_in] + n_hid + [n_out]\n",
    "\n",
    "        self.layers = []\n",
    "        for i_layer, (n1, n2) in enumerate(zip(n_layers, n_layers[1:])):\n",
    "            mods = [nn.Linear(n1, n2, bias=True)]\n",
    "            act_fn = nn.ReLU if i_layer < len(n_layers) - 2 else output_activation\n",
    "            if act_fn is not None:\n",
    "                mods.append(act_fn())\n",
    "            layer = nn.Sequential(*mods)\n",
    "            self.layers.append(layer)\n",
    "\n",
    "        self.layers = nn.ModuleList(self.layers)\n",
    "\n",
    "    def forward(self, x):\n",
    "        for layer in self.layers:\n",
    "            x = layer(x)\n",
    "        return x\n",
    "\n",
    "class nnNorm(nn.Module):\n",
    "    \n",
    "    def __init__(self, dim=-1):\n",
    "        super().__init__()\n",
    "        self.dim=dim\n",
    "        \n",
    "    def forward(self, x):\n",
    "        return F.normalize(x, dim=self.dim)\n",
    "    \n",
    "class Decoder(Coder):\n",
    "\n",
    "    def __init__(self, n_in, n_out, n_hid=[32]):\n",
    "        super().__init__(n_in, n_out, n_hid, output_activation=nn.Sigmoid)\n",
    "        \n",
    "class Encoder(Coder):\n",
    "\n",
    "    def __init__(self, n_in, n_out, n_hid=[32]):\n",
    "        super().__init__(n_in, n_out, n_hid, output_activation=nnNorm)"
   ]
  },
  {
   "cell_type": "code",
   "execution_count": 6,
   "metadata": {
    "colab": {
     "base_uri": "https://localhost:8080/",
     "height": 425
    },
    "colab_type": "code",
    "id": "jm_9CHiqAeEA",
    "outputId": "effc31d7-6ef8-4d83-f7f3-1ca384265502"
   },
   "outputs": [
    {
     "name": "stdout",
     "output_type": "stream",
     "text": [
      "Encoder(\n",
      "  (layers): ModuleList(\n",
      "    (0): Sequential(\n",
      "      (0): Linear(in_features=25, out_features=64, bias=True)\n",
      "      (1): ReLU()\n",
      "    )\n",
      "    (1): Sequential(\n",
      "      (0): Linear(in_features=64, out_features=4, bias=True)\n",
      "      (1): nnNorm()\n",
      "    )\n",
      "  )\n",
      ")\n",
      "Decoder(\n",
      "  (layers): ModuleList(\n",
      "    (0): Sequential(\n",
      "      (0): Linear(in_features=4, out_features=64, bias=True)\n",
      "      (1): ReLU()\n",
      "    )\n",
      "    (1): Sequential(\n",
      "      (0): Linear(in_features=64, out_features=25, bias=True)\n",
      "      (1): Sigmoid()\n",
      "    )\n",
      "  )\n",
      ")\n"
     ]
    }
   ],
   "source": [
    "encoder = Encoder(n_in=5*5, n_out=4, n_hid=[64])\n",
    "print(encoder)\n",
    "\n",
    "decoder = Decoder(n_in=4, n_out=5*5, n_hid=[64])\n",
    "print(decoder)"
   ]
  },
  {
   "cell_type": "markdown",
   "metadata": {},
   "source": [
    "Check to make sure dimensions are okay."
   ]
  },
  {
   "cell_type": "code",
   "execution_count": 7,
   "metadata": {
    "colab": {
     "base_uri": "https://localhost:8080/",
     "height": 204
    },
    "colab_type": "code",
    "id": "nUi-sYYqAeEC",
    "outputId": "2b4d8e82-9c31-4d20-a915-510b005f4f74",
    "scrolled": true
   },
   "outputs": [
    {
     "name": "stdout",
     "output_type": "stream",
     "text": [
      "Observable rep (shape = torch.Size([25])) : \n",
      " tensor([0.2722, 0.5423, 0.3341, 0.3865, 0.6722, 0.6125, 0.1992, 0.7558, 0.3218,\n",
      "        0.5838, 0.3534, 0.7906, 0.0933, 0.2200, 0.0184, 0.4341, 0.2348, 0.9770,\n",
      "        0.2596, 0.9332, 0.7839, 0.1957, 0.0212, 0.5078, 0.7873])\n",
      "Latent rep (shape = torch.Size([4]), norm = 1.0) : \n",
      " tensor([-0.1722,  0.8211,  0.3044, -0.4510], grad_fn=<DivBackward0>)\n",
      "Reconstructed Observable rep (shape = torch.Size([25])) : \n",
      " tensor([0.5955, 0.4950, 0.4812, 0.5569, 0.4422, 0.4414, 0.5112, 0.5097, 0.4796,\n",
      "        0.5089, 0.4989, 0.5289, 0.4374, 0.5646, 0.4610, 0.4275, 0.3981, 0.4866,\n",
      "        0.4388, 0.4264, 0.4966, 0.5893, 0.5711, 0.5846, 0.4985],\n",
      "       grad_fn=<SigmoidBackward>)\n"
     ]
    }
   ],
   "source": [
    "x = torch.rand(25)\n",
    "z = encoder(x)\n",
    "x_recon = decoder(z)\n",
    "print(\"Observable rep (shape = {}) : \\n {}\".format(x.shape, x))\n",
    "print(\"Latent rep (shape = {}, norm = {}) : \\n {}\".format(z.shape, torch.norm(z), z))\n",
    "print(\"Reconstructed Observable rep (shape = {}) : \\n {}\".format(x_recon.shape, x_recon))"
   ]
  },
  {
   "cell_type": "markdown",
   "metadata": {
    "colab_type": "text",
    "id": "rdmLxC3qAeEE"
   },
   "source": [
    "**Representation**\n",
    "\n",
    "The crux of the matter is learning to 'represent' actions in the observation space with actions in latent space.  Here, we will do this by assuming every action is a generalized rotation in latent space, which we denote with a series of 2-dimensional rotations.\n",
    "\n",
    "A 2-d rotation is given by:\n",
    "\n",
    "\\begin{pmatrix}\n",
    "\\cos(\\theta) & \\sin(\\theta) \\\\\n",
    "-\\sin(\\theta) & \\cos(\\theta)\n",
    "\\end{pmatrix}\n",
    "\n",
    "and we denote a rotation in dimensions $i$ and $j$ of a higher dimensional space as $R_{i,j}(\\theta)$.  For $i=1$, $j=4$, in a 4-dimensional space:\n",
    "\n",
    "\\begin{equation}\n",
    "R_{1,4}(\\theta) = \n",
    "\\begin{pmatrix}\n",
    "\\cos(\\theta) & 0 & 0 & \\sin(\\theta) \\\\\n",
    "0 & 1 & 0 & 0 \\\\\n",
    "0 & 0 & 1 & 0 \\\\\n",
    "-\\sin(\\theta) & 0 & 0 & \\cos(\\theta)\n",
    "\\end{pmatrix}\n",
    "\\end{equation}\n",
    "\n",
    "An arbitrary rotation, denoted $g$ as I am subtly moving towards this being a group action, can then be written as:\n",
    "\n",
    "\\begin{equation}\n",
    "    g(\\theta_{1,2},\\theta_{1,3},\\dots,\\theta_{n-1,n}) = \\prod_{i=1}^{n-1} \\prod_{j=1+1}^{n} R_{i,j}(\\theta_{i,j})\n",
    "\\end{equation}\n",
    "\n",
    "which has $n(n-1)/2$ free parameters (i.e. $\\theta_{i,j}$'s)."
   ]
  },
  {
   "cell_type": "code",
   "execution_count": 8,
   "metadata": {
    "colab": {},
    "colab_type": "code",
    "id": "5iPq3hLqAeEF"
   },
   "outputs": [],
   "source": [
    "class Representation():\n",
    "\n",
    "    def __init__(self, dim=4):\n",
    "        self.dim = dim\n",
    "        self.params = dim*(dim-1)//2\n",
    "        self.thetas = torch.autograd.Variable(np.pi*(2*torch.rand(self.params)-1)/dim, requires_grad=True)\n",
    "\n",
    "        self.__matrix = None\n",
    "    \n",
    "    def set_thetas(self, thetas):\n",
    "        self.thetas = thetas\n",
    "        self.thetas.requires_grad = True\n",
    "        self.clear_matrix()\n",
    "    \n",
    "    def clear_matrix(self):\n",
    "        self.__matrix = None\n",
    "        \n",
    "    def get_matrix(self):\n",
    "        if self.__matrix is None:\n",
    "            k = 0\n",
    "            mats = []\n",
    "            for i in range(self.dim-1):\n",
    "                for j in range(self.dim-1-i):\n",
    "                    theta_ij = self.thetas[k]\n",
    "                    k+=1\n",
    "                    c, s = torch.cos(theta_ij), torch.sin(theta_ij)\n",
    "\n",
    "                    rotation_i = torch.eye(self.dim, self.dim)\n",
    "                    rotation_i[i, i] = c\n",
    "                    rotation_i[i, i+j+1] = s\n",
    "                    rotation_i[j+i+1, i] = -s\n",
    "                    rotation_i[j+i+1, j+i+1] = c\n",
    "\n",
    "                    mats.append(rotation_i)\n",
    "\n",
    "            def chain_mult(l):\n",
    "                if len(l)>=3:\n",
    "                    return l[0]@l[1]@chain_mult(l[2:])\n",
    "                elif len(l)==2:\n",
    "                    return l[0]@l[1]\n",
    "                else:\n",
    "                    return l[0]\n",
    "\n",
    "            self.__matrix = chain_mult(mats)\n",
    "                                    \n",
    "        return self.__matrix"
   ]
  },
  {
   "cell_type": "markdown",
   "metadata": {
    "colab_type": "text",
    "id": "pP4HjqIjAeEI"
   },
   "source": [
    "**LatentWorld**\n",
    "\n",
    "Now, for symmetry's sake, we'll also have a `LatentWorld` which acts as the environment in the latent space."
   ]
  },
  {
   "cell_type": "code",
   "execution_count": 9,
   "metadata": {
    "colab": {},
    "colab_type": "code",
    "id": "ZWlWwxNLAeEJ"
   },
   "outputs": [],
   "source": [
    "class LatentWorld():\n",
    "    \n",
    "    class action_space():\n",
    "        def __init__(self,n_actions):\n",
    "            self.n = n_actions\n",
    "            \n",
    "        def sample(self, k=1):\n",
    "            return torch.randint(0,self.n,(k,))\n",
    "\n",
    "    class observation_space():\n",
    "        def __init__(self,n_features):\n",
    "            self.shape = [n_features]\n",
    "    \n",
    "    def __init__(self,\n",
    "                 dim=4,\n",
    "                 n_actions=4,\n",
    "                 action_reps=None):\n",
    "\n",
    "        self.dim = dim\n",
    "\n",
    "        self.action_space = self.action_space(n_actions)\n",
    "        self.observation_space = self.observation_space(dim)\n",
    "        \n",
    "        if action_reps is None:\n",
    "            self.action_reps = [Representation(dim=self.dim) for _ in range(n_actions)]\n",
    "        else:\n",
    "            if len(action_reps)!=n_actions:\n",
    "                raise Exception(\"Must pass an action representation for every action.\")\n",
    "            if not all([rep.dim==self.dim]):\n",
    "                raise Exception(\"Action representations do not act on the dimension of the latent space.\")\n",
    "            self.action_reps = action_reps\n",
    "        \n",
    "    def reset(self, state_init):\n",
    "        self.state = state_init\n",
    "        return self.get_observation()\n",
    "    \n",
    "    def clear_representations(self):\n",
    "        for rep in self.action_reps:\n",
    "            rep.clear_matrix()\n",
    "            \n",
    "    def get_representation_params(self):\n",
    "        params = []\n",
    "        for rep in self.action_reps:\n",
    "            params.append(rep.thetas)\n",
    "        return params\n",
    "    \n",
    "    def save_representations(self, path):\n",
    "        if os.path.splitext(path)[-1] != '.pth':\n",
    "            path += '.pth'\n",
    "        rep_thetas = [rep.thetas for rep in self.action_reps]\n",
    "        return torch.save(rep_thetas, path)\n",
    "    \n",
    "    def load_reprentations(self, path):\n",
    "        rep_thetas = torch.load(path)\n",
    "        for rep in self.action_reps:\n",
    "            rep.set_thetas(rep_thetas.pop(0))\n",
    "            \n",
    "    def get_observation(self):\n",
    "        return self.state\n",
    "    \n",
    "    def step(self,action):\n",
    "        self.state = torch.mv(self.action_reps[action].get_matrix(), self.state)\n",
    "        obs = self.get_observation()\n",
    "        return obs"
   ]
  },
  {
   "cell_type": "markdown",
   "metadata": {
    "colab_type": "text",
    "id": "vcS30ftfAeEL"
   },
   "source": [
    "## 3. Training\n",
    "\n",
    "So the basic training loop is pretty straightfoward.  We simply play out episodes from random starting configurations, encoded by the `Encoder`, for `ep_steps` time-steps.  Each random action is executed in both the `GridWorld` and the `LatentWorld`, and then the latent state is transformed to the observation space by the `Decoder` where the loss function measures its deviation from the true state."
   ]
  },
  {
   "cell_type": "code",
   "execution_count": 10,
   "metadata": {
    "colab": {},
    "colab_type": "code",
    "id": "jFSZYF8iAeEM"
   },
   "outputs": [],
   "source": [
    "obs_env = GridWorld(dim = 10)\n",
    "lat_env = LatentWorld(dim = 4,\n",
    "                      n_actions = obs_env.action_space.n)\n",
    "decoder = Decoder(n_in = sum(lat_env.observation_space.shape),\n",
    "                  n_out = sum(obs_env.observation_space.shape),\n",
    "                  n_hid = [64])\n",
    "encoder = Encoder(n_in = sum(obs_env.observation_space.shape),\n",
    "                  n_out = sum(lat_env.observation_space.shape),\n",
    "                  n_hid = [64])\n",
    "\n",
    "optimizer_dec = optim.Adam(decoder.parameters(),\n",
    "                           lr=1e-2,\n",
    "                           weight_decay=0)\n",
    "\n",
    "optimizer_enc = optim.Adam(encoder.parameters(),\n",
    "                           lr=1e-2,\n",
    "                           weight_decay=0)\n",
    "\n",
    "optimizer_rep = optim.Adam(lat_env.get_representation_params(),\n",
    "                           lr=1e-2,\n",
    "                           weight_decay=0)\n",
    "\n",
    "losses = []"
   ]
  },
  {
   "cell_type": "code",
   "execution_count": 11,
   "metadata": {
    "colab": {
     "base_uri": "https://localhost:8080/",
     "height": 867
    },
    "colab_type": "code",
    "id": "2EgBTgwZAeEO",
    "outputId": "9f3786c2-449a-4c0d-ec07-963e64f4ce32"
   },
   "outputs": [
    {
     "name": "stdout",
     "output_type": "stream",
     "text": [
      "iter 100 : loss=0.068 : last 10 iters in 0.358s\n",
      "iter 200 : loss=0.067 : last 10 iters in 0.360s\n",
      "iter 300 : loss=0.062 : last 10 iters in 0.318s\n",
      "iter 400 : loss=0.047 : last 10 iters in 0.400s\n",
      "iter 500 : loss=0.041 : last 10 iters in 0.329s\n",
      "iter 600 : loss=0.035 : last 10 iters in 0.365s\n",
      "iter 700 : loss=0.024 : last 10 iters in 0.470s\n",
      "iter 800 : loss=0.019 : last 10 iters in 0.327s\n",
      "iter 900 : loss=0.013 : last 10 iters in 0.362s\n",
      "iter 1000 : loss=0.010 : last 10 iters in 0.328s\n",
      "iter 1100 : loss=0.007 : last 10 iters in 0.341s\n",
      "iter 1200 : loss=0.006 : last 10 iters in 0.516s\n",
      "iter 1300 : loss=0.004 : last 10 iters in 0.331s\n",
      "iter 1400 : loss=0.002 : last 10 iters in 0.342s\n",
      "iter 1500 : loss=0.002 : last 10 iters in 0.368s\n",
      "iter 1600 : loss=0.001 : last 10 iters in 0.419s\n",
      "iter 1700 : loss=0.001 : last 10 iters in 0.376s\n",
      "iter 1800 : loss=0.001 : last 10 iters in 0.528s\n",
      "iter 1900 : loss=0.001 : last 10 iters in 0.609s\n",
      "iter 2000 : loss=0.001 : last 10 iters in 0.415s\n",
      "iter 2100 : loss=0.000 : last 10 iters in 0.414s\n",
      "iter 2200 : loss=0.000 : last 10 iters in 0.516s\n",
      "iter 2300 : loss=0.000 : last 10 iters in 0.397s\n",
      "iter 2400 : loss=0.000 : last 10 iters in 0.410s\n",
      "iter 2500 : loss=0.000 : last 10 iters in 0.602s\n",
      "iter 2600 : loss=0.000 : last 10 iters in 0.502s\n",
      "iter 2700 : loss=0.000 : last 10 iters in 0.481s\n",
      "iter 2800 : loss=0.000 : last 10 iters in 0.424s\n",
      "iter 2900 : loss=0.000 : last 10 iters in 0.482s\n",
      "iter 3000 : loss=0.000 : last 10 iters in 0.579s\n"
     ]
    }
   ],
   "source": [
    "n_sgd_steps = 3000\n",
    "ep_steps = 5\n",
    "batch_eps = 16\n",
    "\n",
    "i = 0\n",
    "\n",
    "t_start = time.time()\n",
    "\n",
    "temp = 0\n",
    "\n",
    "while i < n_sgd_steps:\n",
    "    \n",
    "    loss = torch.zeros(1)\n",
    "    \n",
    "    for _ in range(batch_eps):\n",
    "        t_ep = -1\n",
    "        while t_ep < ep_steps:\n",
    "            if t_ep == -1:\n",
    "                obs_x = obs_env.reset()\n",
    "                obs_z = lat_env.reset(encoder(obs_x))\n",
    "            else:\n",
    "                action = obs_env.action_space.sample().item()\n",
    "                obs_x = obs_env.step(action)\n",
    "                obs_z = lat_env.step(action)\n",
    "            \n",
    "            t_ep += 1         \n",
    "            \n",
    "            obs_x_recon = decoder(obs_z)\n",
    "\n",
    "            loss += F.binary_cross_entropy(obs_x_recon, obs_x)\n",
    "        \n",
    "    loss /= (ep_steps*batch_eps)\n",
    "                        \n",
    "    losses.append(loss.item())\n",
    "    \n",
    "    optimizer_dec.zero_grad()\n",
    "    optimizer_enc.zero_grad()\n",
    "    optimizer_rep.zero_grad()\n",
    "    loss.backward()\n",
    "    optimizer_enc.step()\n",
    "    optimizer_dec.step()\n",
    "    optimizer_rep.step()\n",
    "        \n",
    "    # Rember to clear the cached action representations after we update the parameters!\n",
    "    lat_env.clear_representations()\n",
    "\n",
    "    i+=1\n",
    "    \n",
    "    if i%10==0:\n",
    "        print(\"iter {} : loss={:.3f} : last 10 iters in {:.3f}s\".format(i, loss.item(), time.time() - t_start),\n",
    "              end=\"\\r\" if i%100 else \"\\n\")\n",
    "        t_start = time.time()"
   ]
  },
  {
   "cell_type": "markdown",
   "metadata": {},
   "source": [
    "**Plot training curve, then save the network**"
   ]
  },
  {
   "cell_type": "code",
   "execution_count": 12,
   "metadata": {
    "colab": {
     "base_uri": "https://localhost:8080/",
     "height": 287
    },
    "colab_type": "code",
    "id": "s003T8R9AeEQ",
    "outputId": "6788a0a9-8a69-44fb-f40a-ab758b123c49"
   },
   "outputs": [
    {
     "name": "stdout",
     "output_type": "stream",
     "text": [
      "dir already exists:  _data\n"
     ]
    },
    {
     "data": {
      "image/png": "[encoded data removed]",
      "text/plain": [
       "<Figure size 400x250 with 1 Axes>"
      ]
     },
     "metadata": {},
     "output_type": "display_data"
    }
   ],
   "source": [
    "mk_dir(\"_data\")\n",
    "\n",
    "with plt.style.context('seaborn-paper', after_reset=True):\n",
    "\n",
    "    fig, ax1 = plt.subplots(1, 1, figsize=(4, 2.5))\n",
    "\n",
    "    window = 25\n",
    "    avg_mask = np.ones(window) / window\n",
    "\n",
    "    ax1.plot(np.convolve(range(len(losses)), avg_mask, 'valid'),\n",
    "             np.convolve(np.log(losses), avg_mask, 'valid'),\n",
    "             linewidth=0.75,\n",
    "             alpha=0.8)\n",
    "#     ax1.set_yscale(\"log\")\n",
    "\n",
    "    ax1.set_xlabel(\"Num. parameter updates\")\n",
    "    ax1.set_ylabel(\"Log Loss\")\n",
    "    \n",
    "    fig_fname = \"_data/training_loss\"\n",
    "    plt.savefig(fig_fname + \".pdf\", bbox_inches='tight')\n",
    "    plt.savefig(fig_fname + \".png\", bbox_inches='tight')"
   ]
  },
  {
   "cell_type": "code",
   "execution_count": 13,
   "metadata": {
    "colab": {},
    "colab_type": "code",
    "id": "dmvIwtOuAeES"
   },
   "outputs": [],
   "source": [
    "torch.save(decoder.state_dict(), \"decoder.pth\")\n",
    "torch.save(encoder.state_dict(), \"encoder.pth\")\n",
    "rep_thetas = [rep.thetas for rep in lat_env.action_reps]\n",
    "torch.save(rep_thetas, \"representations.pth\")\n",
    "torch.save(optimizer_dec.state_dict(), \"optimizer_dec.pth\")\n",
    "torch.save(optimizer_enc.state_dict(), 'optimizer_enc.pth')\n",
    "torch.save(optimizer_rep.state_dict(), \"optimizer_rep.pth\")"
   ]
  },
  {
   "cell_type": "markdown",
   "metadata": {
    "colab_type": "text",
    "id": "EwYBhZqtAeET"
   },
   "source": [
    "## 4. Testing\n",
    "\n",
    "Testing is easy too, we just play out an episode and see how well the reconstructed image agrees with the ground truth!"
   ]
  },
  {
   "cell_type": "code",
   "execution_count": 14,
   "metadata": {
    "colab": {
     "base_uri": "https://localhost:8080/",
     "height": 277
    },
    "colab_type": "code",
    "id": "NjwESM1fAeEU",
    "outputId": "41c62714-de5c-4b1b-a7a0-974cbb4b0a3f"
   },
   "outputs": [
    {
     "data": {
      "image/png": "[encoded data removed]",
      "text/plain": [
       "<Figure size 432x288 with 2 Axes>"
      ]
     },
     "metadata": {},
     "output_type": "display_data"
    }
   ],
   "source": [
    "def plot_state(obs, ax, one_hot=True):\n",
    "    if one_hot:\n",
    "        obs=(obs == obs.max())\n",
    "    ax.pcolormesh(obs.reshape(obs_env.dim, obs_env.dim), edgecolors='gray', linewidth=2)\n",
    "    ax.set_aspect('equal')\n",
    "    ax.set_xticks([])\n",
    "    ax.set_yticks([])\n",
    "    \n",
    "    return ax\n",
    "    \n",
    "n_steps = 10\n",
    "\n",
    "fig, (ax1,ax2) = plt.subplots(2, 1)\n",
    "\n",
    "ax1.set_title(\"Ground truth\")\n",
    "ax2.set_title(\"Reconstruction\")\n",
    "\n",
    "for i in range(n_steps+1):\n",
    "    \n",
    "    if i==0:\n",
    "        action = \"N\\A\"\n",
    "        obs_x = obs_env.reset()\n",
    "        obs_z = lat_env.reset(encoder(obs_x))\n",
    "    else:\n",
    "        action = obs_env.action_space.sample().item()\n",
    "        obs_x = obs_env.step(action)\n",
    "        obs_z = lat_env.step(action)\n",
    "        \n",
    "    obs_x_recon = decoder(obs_z)\n",
    "    \n",
    "    fig.suptitle('step {} : last action = {}'.format(i, action), fontsize=16)\n",
    "    \n",
    "    plot_state(obs_x.detach().numpy(),ax1)\n",
    "    plot_state(obs_x_recon.detach().numpy(),ax2, one_hot=False)\n",
    "    \n",
    "    fig_fname = \"_data/testing_{}\".format(i)\n",
    "    plt.savefig(fig_fname + \".pdf\", bbox_inches='tight')\n",
    "    plt.savefig(fig_fname + \".png\", bbox_inches='tight')\n",
    "    \n",
    "    display.clear_output(wait=True)\n",
    "    display.display(plt.gcf())\n",
    "    time.sleep(0.5)\n",
    "    \n",
    "display.clear_output(wait=False)"
   ]
  },
  {
   "cell_type": "markdown",
   "metadata": {
    "colab_type": "text",
    "id": "aNiY4FD7DKoR"
   },
   "source": [
    "We will now have a look at the latent space, we will make a 2D projection of the 4D latent space for every possible frame (There are 25 for the 5x5 grid). Note that since we use random projections, in some cases the toric structure we find is more obvious than in others.\n",
    "\n",
    "**1) Positions on the grid**"
   ]
  },
  {
   "cell_type": "code",
   "execution_count": 15,
   "metadata": {
    "colab": {},
    "colab_type": "code",
    "id": "HzgmOPSODKQ-"
   },
   "outputs": [
    {
     "name": "stderr",
     "output_type": "stream",
     "text": [
      "/home/william/.local/lib/python3.6/site-packages/ipykernel_launcher.py:23: UserWarning: Matplotlib is currently using module://ipykernel.pylab.backend_inline, which is a non-GUI backend, so cannot show the figure.\n"
     ]
    },
    {
     "data": {
      "image/png": "[encoded data removed]",
      "text/plain": [
       "<Figure size 432x288 with 1 Axes>"
      ]
     },
     "metadata": {
      "needs_background": "light"
     },
     "output_type": "display_data"
    }
   ],
   "source": [
    "from sklearn.random_projection import GaussianRandomProjection\n",
    "import matplotlib as mpl\n",
    "from mpl_toolkits.mplot3d import Axes3D\n",
    "\n",
    "fig = plt.figure(figsize=(6,4))\n",
    "ax = fig.add_subplot(111)#, projection='3d')\n",
    "\n",
    "#color=[\"C0\",\"C1\",\"C2\",\"C3\",\"C4\",\"C5\",\"C6\",\"C7\",\"C8\",\"C9\",\"C10\"]\n",
    "color=['#1f77b4', '#ff7f0e', '#2ca02c', '#d62728', '#9467bd', '#8c564b', '#e377c2', '#7f7f7f', '#bcbd22', '#17becf',\"#2fa36b\"]\n",
    "marks=[\"1\",\"2\",\"3\",\"4\",\"+\",\">\",\"<\",\"^\",\"v\",\"x\",\"d\"]\n",
    "\n",
    "s=[120]*5+[50]*6\n",
    "\n",
    "for i in range (100):\n",
    "    ax.scatter(x=i//10,\n",
    "                y=i%10,\n",
    "   #             zs=latent_2d.transpose()[2][i],\n",
    "                c=color[i//10], \n",
    "                s=s[i%10],\n",
    "                marker=marks[i%10])\n",
    "plt.xticks(fontsize=14)\n",
    "plt.yticks(fontsize=14)\n",
    "fig.show()\n",
    "plt.savefig(\"grid11.png\", bbox_inches='tight')"
   ]
  },
  {
   "cell_type": "markdown",
   "metadata": {},
   "source": [
    "**2) Positions in Latent Space**"
   ]
  },
  {
   "cell_type": "code",
   "execution_count": 52,
   "metadata": {
    "colab": {
     "base_uri": "https://localhost:8080/",
     "height": 268
    },
    "colab_type": "code",
    "id": "vK1qhgP_RHZ9",
    "outputId": "f8aeedd2-d00b-4eb1-d400-0f3a878e1725"
   },
   "outputs": [
    {
     "name": "stderr",
     "output_type": "stream",
     "text": [
      "/home/william/.local/lib/python3.6/site-packages/ipykernel_launcher.py:33: UserWarning: Matplotlib is currently using module://ipykernel.pylab.backend_inline, which is a non-GUI backend, so cannot show the figure.\n"
     ]
    },
    {
     "data": {
      "image/png": "[encoded data removed]",
      "text/plain": [
       "<Figure size 432x288 with 1 Axes>"
      ]
     },
     "metadata": {
      "needs_background": "light"
     },
     "output_type": "display_data"
    }
   ],
   "source": [
    "num_frames = sum(obs_env.observation_space.shape)\n",
    "\n",
    "latent_points = []\n",
    "\n",
    "for i in range(num_frames):\n",
    "    frame = torch.zeros(num_frames)\n",
    "    frame[i] = 1\n",
    "    latent = encoder(frame)\n",
    "    latent_points.append(latent.detach().tolist())\n",
    "\n",
    "latent_map = np.array(latent_points)\n",
    "\n",
    "pca = GaussianRandomProjection(n_components=2)\n",
    "\n",
    "latent_2d = pca.fit_transform(latent_map)\n",
    "\n",
    "fig = plt.figure(figsize=(6,4))\n",
    "ax = fig.add_subplot(111)#, projection='3d')\n",
    "s=[120]*5+[50]*6\n",
    "for i in range (100):\n",
    "    ax.scatter(x=latent_2d.transpose()[0][i],\n",
    "                y=latent_2d.transpose()[1][i],\n",
    "             #   zs=latent_2d.transpose()[2][i],\n",
    "                c=color[i//10], \n",
    "                s=s[i%10],\n",
    "                marker=marks[i%10])\n",
    "plt.xticks(fontsize=14)\n",
    "plt.yticks(fontsize=14)\n",
    "fig.show()\n",
    "\n",
    "plt.savefig(\"tore2d.png\", bbox_inches='tight')"
   ]
  },
  {
   "cell_type": "markdown",
   "metadata": {},
   "source": [
    "**3) Show Action representations**"
   ]
  },
  {
   "cell_type": "code",
   "execution_count": 17,
   "metadata": {
    "colab": {
     "base_uri": "https://localhost:8080/",
     "height": 737
    },
    "colab_type": "code",
    "id": "pwZgnVDdW43P",
    "outputId": "fb8f35f8-4b33-4270-d267-99f230ba8edc"
   },
   "outputs": [
    {
     "name": "stdout",
     "output_type": "stream",
     "text": [
      "tensor([[ 0.8901,  0.3568,  0.1511, -0.2401],\n",
      "        [-0.2331,  0.8813, -0.3391,  0.2323],\n",
      "        [-0.2926,  0.2925,  0.9069, -0.0794],\n",
      "        [ 0.2605, -0.1020,  0.1991,  0.9392]], grad_fn=<MmBackward>)\n",
      "tensor([[-0.1498,  0.6440, -0.7431,  0.1034],\n",
      "        [ 0.6499, -0.2411, -0.2457,  0.6776],\n",
      "        [-0.7370, -0.2417,  0.0269,  0.6306],\n",
      "        [ 0.1096,  0.6846,  0.6219,  0.3640]], grad_fn=<MmBackward>)\n",
      "tensor([[ 0.8898, -0.2330, -0.2928,  0.2612],\n",
      "        [ 0.3569,  0.8816,  0.2909, -0.1035],\n",
      "        [ 0.1511, -0.3369,  0.9072,  0.2015],\n",
      "        [-0.2408,  0.2344, -0.0812,  0.9383]], grad_fn=<MmBackward>)\n",
      "tensor([[-0.1508,  0.6487, -0.7388,  0.1030],\n",
      "        [ 0.6458, -0.2363, -0.2439,  0.6838],\n",
      "        [-0.7403, -0.2364,  0.0311,  0.6286],\n",
      "        [ 0.1102,  0.6837,  0.6275,  0.3559]], grad_fn=<MmBackward>)\n",
      "tensor([[ 0.9194,  0.0805,  0.2388,  0.3020],\n",
      "        [-0.2028,  0.9276,  0.2730,  0.1544],\n",
      "        [-0.0974, -0.2274,  0.9013, -0.3555],\n",
      "        [-0.3226, -0.2852,  0.2367,  0.8710]], grad_fn=<MmBackward>)\n",
      "tensor([[ 0.1532, -0.6382,  0.7467, -0.1080],\n",
      "        [-0.6474,  0.2394,  0.2387, -0.6831],\n",
      "        [ 0.7387,  0.2407, -0.0367, -0.6285],\n",
      "        [-0.1085, -0.6910, -0.6198, -0.3559]], grad_fn=<MmBackward>)\n",
      "tensor([[ 0.9191, -0.2018, -0.0980, -0.3238],\n",
      "        [ 0.0788,  0.9276, -0.2269, -0.2860],\n",
      "        [ 0.2392,  0.2730,  0.9014,  0.2360],\n",
      "        [ 0.3030,  0.1557, -0.3554,  0.8704]], grad_fn=<MmBackward>)\n",
      "tensor([[ 0.1518, -0.6477,  0.7386, -0.1093],\n",
      "        [-0.6432,  0.2411,  0.2421, -0.6852],\n",
      "        [ 0.7425,  0.2408, -0.0338, -0.6242],\n",
      "        [-0.1094, -0.6815, -0.6283, -0.3590]], grad_fn=<MmBackward>)\n"
     ]
    },
    {
     "data": {
      "image/png": "[encoded data removed]",
      "text/plain": [
       "<Figure size 800x150 with 4 Axes>"
      ]
     },
     "metadata": {},
     "output_type": "display_data"
    }
   ],
   "source": [
    "width=0.75\n",
    "\n",
    "test_folder=\"_data\"\n",
    "\n",
    "for rep in lat_env.action_reps:\n",
    "    print(rep.get_matrix())\n",
    "    print(torch.matrix_power(rep.get_matrix(), 5))\n",
    "rep_thetas = [rep.thetas.detach().numpy() for rep in lat_env.action_reps]\n",
    "\n",
    "plt_lim = max( 0.1, max([max(t) for t in rep_thetas])/(2*np.pi) )\n",
    "titles = [\"up\", \"down\", \"right\", \"left\"]\n",
    "\n",
    "with plt.style.context('seaborn-paper', after_reset=True):\n",
    "\n",
    "    fig, axs = plt.subplots(1, len(rep_thetas), figsize=(8, 1.5), gridspec_kw={\"wspace\":0.4})\n",
    "    \n",
    "    for i, thetas in enumerate(rep_thetas):\n",
    "        x = np.arange(len(thetas))\n",
    "        axs[i].bar(x - width/2, thetas/(2*np.pi), width, label='Rep {}'.format(i))\n",
    "        \n",
    "        axs[i].set_xticks(x-0.25)\n",
    "        axs[i].set_xticklabels([\"12\",\"13\",\"14\",\"23\",\"24\",\"34\"])\n",
    "        axs[i].set_ylabel(\"$ij$\")\n",
    "        \n",
    "        axs[i].set_ylim(-plt_lim,plt_lim)\n",
    "        \n",
    "        axs[i].set_title(titles[i])\n",
    "        \n",
    "    axs[0].set_ylabel(r\"$\\theta / 2\\pi$\", fontsize=11)\n",
    "    \n",
    "    fig_fname = os.path.join(test_folder, \"thetas\")\n",
    "\n",
    "    plt.savefig(fig_fname + \".pdf\", bbox_inches='tight')\n",
    "    plt.savefig(fig_fname + \".png\", bbox_inches='tight')"
   ]
  }
 ],
 "metadata": {
  "colab": {
   "name": "grid-world.ipynb",
   "provenance": []
  },
  "kernelspec": {
   "display_name": "Python 3",
   "language": "python",
   "name": "python3"
  },
  "language_info": {
   "codemirror_mode": {
    "name": "ipython",
    "version": 3
   },
   "file_extension": ".py",
   "mimetype": "text/x-python",
   "name": "python",
   "nbconvert_exporter": "python",
   "pygments_lexer": "ipython3",
   "version": "3.6.9"
  }
 },
 "nbformat": 4,
 "nbformat_minor": 1
}
