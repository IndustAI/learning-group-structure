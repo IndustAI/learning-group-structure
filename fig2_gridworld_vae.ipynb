{
 "cells": [
  {
   "cell_type": "markdown",
   "metadata": {},
   "source": [
    "# Comparison of our method to VAEs on 2D gridworld\n",
    "\n",
    "Here, we show that two benchmark methods for learning representations: CCI-VAEs and hyperspherical VAEs, both fail to learn the structure underlying the periodic gridworld that we study in our work. This is because these methods learn structure from observational data, which here has no clear structure.\n",
    "\n",
    "### 1) Load libraries"
   ]
  },
  {
   "cell_type": "code",
   "execution_count": 1,
   "metadata": {},
   "outputs": [
    {
     "name": "stdout",
     "output_type": "stream",
     "text": [
      "Set seaborn plotting defaults.\n"
     ]
    },
    {
     "name": "stderr",
     "output_type": "stream",
     "text": [
      "/usr/lib/python3.6/_collections_abc.py:841: MatplotlibDeprecationWarning: \n",
      "The examples.directory rcparam was deprecated in Matplotlib 3.0 and will be removed in 3.2. In the future, examples will be found relative to the 'datapath' directory.\n",
      "  self[key] = other[key]\n",
      "/usr/lib/python3.6/_collections_abc.py:841: MatplotlibDeprecationWarning: \n",
      "The savefig.frameon rcparam was deprecated in Matplotlib 3.1 and will be removed in 3.3.\n",
      "  self[key] = other[key]\n",
      "/usr/lib/python3.6/_collections_abc.py:841: MatplotlibDeprecationWarning: \n",
      "The text.latex.unicode rcparam was deprecated in Matplotlib 3.0 and will be removed in 3.2.\n",
      "  self[key] = other[key]\n",
      "/usr/lib/python3.6/_collections_abc.py:841: MatplotlibDeprecationWarning: \n",
      "The verbose.fileo rcparam was deprecated in Matplotlib 3.1 and will be removed in 3.3.\n",
      "  self[key] = other[key]\n",
      "/usr/lib/python3.6/_collections_abc.py:841: MatplotlibDeprecationWarning: \n",
      "The verbose.level rcparam was deprecated in Matplotlib 3.1 and will be removed in 3.3.\n",
      "  self[key] = other[key]\n"
     ]
    }
   ],
   "source": [
    "import os\n",
    "\n",
    "import math\n",
    "import torch\n",
    "import random\n",
    "import torch.nn as nn\n",
    "import torch.nn.functional as F\n",
    "import torch.optim as optim\n",
    "import numpy as np\n",
    "import matplotlib.pyplot as plt\n",
    "\n",
    "from IPython import display\n",
    "import time\n",
    "\n",
    "from sklearn.random_projection import GaussianRandomProjection\n",
    "from sklearn.decomposition import PCA\n",
    "\n",
    "from tqdm import tqdm"
   ]
  },
  {
   "cell_type": "markdown",
   "metadata": {},
   "source": [
    "### 2) Create static dataset from gridworld interaction data\n",
    "\n",
    "We will use a static dataset for all of these experiments. We start by defining the environment"
   ]
  },
  {
   "cell_type": "code",
   "execution_count": 2,
   "metadata": {},
   "outputs": [],
   "source": [
    "class GridWorld():\n",
    "    \n",
    "    class action_space():\n",
    "        def __init__(self,n_actions):\n",
    "            self.n = n_actions\n",
    "            \n",
    "        def sample(self, k=1):\n",
    "            return torch.randint(0,self.n,(k,))       \n",
    "\n",
    "    class observation_space():\n",
    "        def __init__(self,n_features):\n",
    "            self.shape = [n_features]\n",
    "    \n",
    "    def __init__(self,dim=10):\n",
    "\n",
    "        self.dim = dim\n",
    "\n",
    "        self.action_space = self.action_space(4)\n",
    "        self.observation_space = self.observation_space(dim**2)\n",
    "        \n",
    "        self.reset()\n",
    "        \n",
    "    def reset(self):\n",
    "        self.ball_coordinates = [random.randrange(self.dim), random.randrange(self.dim)]\n",
    "        self.state = self.get_state()\n",
    "        return self.get_observation()\n",
    "    \n",
    "    def get_state(self, ball_coordinates=None):\n",
    "        if ball_coordinates is None:\n",
    "            ball_coordinates=self.ball_coordinates\n",
    "            \n",
    "        state = torch.zeros((self.dim,self.dim))\n",
    "        state[ball_coordinates[0],ball_coordinates[1]] = 1\n",
    "        \n",
    "        return state\n",
    "    \n",
    "    def get_observation(self):\n",
    "        return self.state.flatten()\n",
    "    \n",
    "    def step(self,action):\n",
    "\n",
    "        if action == 0:\n",
    "            self.ball_coordinates[0] = (self.ball_coordinates[0] + 1)%self.dim\n",
    "        elif action == 1:\n",
    "            self.ball_coordinates[0] = (self.ball_coordinates[0] - 1)%self.dim\n",
    "        elif action == 2:\n",
    "            self.ball_coordinates[1] = (self.ball_coordinates[1] + 1)%self.dim\n",
    "        elif action == 3:\n",
    "            self.ball_coordinates[1] = (self.ball_coordinates[1] - 1)%self.dim\n",
    "        else:\n",
    "            raise Exception(\"Invalid action.\")\n",
    "\n",
    "        self.state = self.get_state()\n",
    "\n",
    "        return self.get_observation()"
   ]
  },
  {
   "cell_type": "markdown",
   "metadata": {},
   "source": [
    "Now we show a few consecutive states from this gridworld"
   ]
  },
  {
   "cell_type": "code",
   "execution_count": 3,
   "metadata": {},
   "outputs": [
    {
     "data": {
      "image/png": "[encoded data removed]",
      "text/plain": [
       "<Figure size 432x288 with 4 Axes>"
      ]
     },
     "metadata": {},
     "output_type": "display_data"
    }
   ],
   "source": [
    "def plot_state(state, ax):\n",
    "    ax.pcolormesh(state, edgecolors='gray', linewidth=2, )\n",
    "    ax.set_aspect('equal')\n",
    "    ax.set_xticks([])\n",
    "    ax.set_yticks([])\n",
    "    \n",
    "    return ax\n",
    "    \n",
    "n_steps = 3\n",
    "\n",
    "env = GridWorld()\n",
    "\n",
    "fig, axs = plt.subplots(1, n_steps+1,)\n",
    "\n",
    "plot_state(env.state,axs[0])\n",
    "\n",
    "for i in range(n_steps):\n",
    "    env.step(np.random.randint(0,4))\n",
    "    plot_state(env.state,axs[i+1])"
   ]
  },
  {
   "cell_type": "markdown",
   "metadata": {},
   "source": [
    "We now color code the different positions on this grid, which will be used when studying the representations learned by the different benchmarks"
   ]
  },
  {
   "cell_type": "code",
   "execution_count": 4,
   "metadata": {},
   "outputs": [
    {
     "name": "stderr",
     "output_type": "stream",
     "text": [
      "/home/william/.local/lib/python3.6/site-packages/ipykernel_launcher.py:17: UserWarning: Matplotlib is currently using module://ipykernel.pylab.backend_inline, which is a non-GUI backend, so cannot show the figure.\n"
     ]
    },
    {
     "data": {
      "image/png": "[encoded data removed]",
      "text/plain": [
       "<Figure size 432x288 with 1 Axes>"
      ]
     },
     "metadata": {
      "needs_background": "light"
     },
     "output_type": "display_data"
    }
   ],
   "source": [
    "fig = plt.figure()\n",
    "ax = fig.add_subplot(111)#, projection='3d')\n",
    "\n",
    "color=['#1f77b4', '#ff7f0e', '#2ca02c', '#d62728', '#9467bd', '#8c564b', '#e377c2', '#7f7f7f', '#bcbd22', '#17becf',\"#2fa36b\"]\n",
    "marks=[\"1\",\"2\",\"3\",\"4\",\"+\",\">\",\"<\",\"^\",\"v\",\"x\",\"d\"]\n",
    "\n",
    "s=[120]*5+[50]*6\n",
    "\n",
    "for i in range (100):\n",
    "    ax.scatter(x=i//10,\n",
    "                y=i%10,\n",
    "   #             zs=latent_2d.transpose()[2][i],\n",
    "                c=color[i//10], \n",
    "                s=s[i%10],\n",
    "                marker=marks[i%10])\n",
    "\n",
    "fig.show()\n"
   ]
  },
  {
   "cell_type": "markdown",
   "metadata": {},
   "source": [
    "We now actually create a dataset containing states from this environment"
   ]
  },
  {
   "cell_type": "code",
   "execution_count": 5,
   "metadata": {},
   "outputs": [],
   "source": [
    "N_DATA = 10000\n",
    "\n",
    "dataset = {}\n",
    "env = GridWorld()\n",
    "for i in range(N_DATA):\n",
    "    state = env.step(np.random.randint(0,4))\n",
    "    dataset[i] = state"
   ]
  },
  {
   "cell_type": "markdown",
   "metadata": {},
   "source": [
    "# Representations learned by a CCI-VAE\n",
    "\n",
    "The representations learned by the autoencoder are all over the place; let's see how a VAE fares.\n",
    "\n",
    "### 1) Define and train VAE\n",
    "\n",
    "The following code derives from the pytorch repo on github https://github.com/pytorch/examples/blob/master/vae/main.py"
   ]
  },
  {
   "cell_type": "code",
   "execution_count": 10,
   "metadata": {},
   "outputs": [],
   "source": [
    "device = torch.device(\"cpu\")\n",
    "\n",
    "def init_weights(m, gain):\n",
    "    if (type(m) == nn.Linear) | (type(m) == nn.Conv2d):\n",
    "        nn.init.orthogonal_(m.weight, gain)\n",
    "        if m.bias is not None:\n",
    "            nn.init.zeros_(m.bias)\n",
    "\n",
    "class VAE(nn.Module):\n",
    "    def __init__(self, latent_dim = 4, weight_scale=3, final_capacity=25, final_capacity_step=10000):\n",
    "        super(VAE, self).__init__()\n",
    "\n",
    "        self.fc1 = nn.Linear(100, 256)\n",
    "        self.fc2 = nn.Linear(256, 64)\n",
    "        self.fc31 = nn.Linear(64, latent_dim)\n",
    "        self.fc32 = nn.Linear(64, latent_dim)\n",
    "        self.fc4 = nn.Linear(latent_dim, 64)\n",
    "        self.fc5 = nn.Linear(64, 256)\n",
    "        self.fc6 = nn.Linear(256, 100)\n",
    "        \n",
    "        self.final_capacity = final_capacity\n",
    "        self.final_capacity_step = final_capacity_step\n",
    "        self.capacity = 0\n",
    "        self.step = 0\n",
    "        \n",
    "        init_weights(self.fc1, weight_scale)\n",
    "        init_weights(self.fc2, weight_scale)\n",
    "        init_weights(self.fc31, weight_scale)\n",
    "        init_weights(self.fc32, weight_scale)\n",
    "        init_weights(self.fc4, weight_scale)\n",
    "        init_weights(self.fc5, weight_scale)\n",
    "        init_weights(self.fc6, weight_scale)\n",
    "\n",
    "    def encode(self, x):\n",
    "        h1 = F.relu(self.fc1(x))\n",
    "        h2 = F.relu(self.fc2(h1))\n",
    "        return self.fc31(h2), self.fc32(h2)\n",
    "\n",
    "    def reparameterize(self, mu, logvar):\n",
    "        std = torch.exp(0.5*logvar)\n",
    "        eps = torch.randn_like(std)\n",
    "        return mu + eps*std\n",
    "\n",
    "    def decode(self, z):\n",
    "        h4 = F.relu(self.fc4(z))\n",
    "        h5 = F.relu(self.fc5(h4))\n",
    "        return torch.sigmoid(self.fc6(h5))\n",
    "\n",
    "    def forward(self, x):\n",
    "        mu, logvar = self.encode(x)\n",
    "        z = self.reparameterize(mu, logvar)\n",
    "        return self.decode(z), mu, logvar\n",
    "    \n",
    "    def update_capacity(self):\n",
    "        if self.step < self.final_capacity_step:\n",
    "            self.capacity += self.final_capacity/self.final_capacity_step\n",
    "        self.step += 1\n",
    "        return self.capacity\n",
    "    \n",
    "# Reconstruction + KL divergence losses summed over all elements and batch\n",
    "def loss_function(recon_x, x, mu, logvar,beta, capacity):\n",
    "    BCE = F.binary_cross_entropy(recon_x, x, reduction='sum')\n",
    "\n",
    "    # see Appendix B from VAE paper:\n",
    "    # Kingma and Welling. Auto-Encoding Variational Bayes. ICLR, 2014\n",
    "    # https://arxiv.org/abs/1312.6114\n",
    "    # 0.5 * sum(1 + log(sigma^2) - mu^2 - sigma^2)\n",
    "    KLD = -0.5 * torch.mean(1 + logvar - mu.pow(2) - logvar.exp())\n",
    "\n",
    "    return BCE + beta*torch.abs(KLD-capacity)\n"
   ]
  },
  {
   "cell_type": "code",
   "execution_count": 11,
   "metadata": {},
   "outputs": [
    {
     "name": "stderr",
     "output_type": "stream",
     "text": [
      "100%|██████████| 10000/10000 [00:56<00:00, 178.35it/s]"
     ]
    },
    {
     "name": "stdout",
     "output_type": "stream",
     "text": [
      "Loss on last batch was 56.27629089355469\n"
     ]
    },
    {
     "name": "stderr",
     "output_type": "stream",
     "text": [
      "\n"
     ]
    }
   ],
   "source": [
    "LR = 1e-3\n",
    "N_STEPS = 10000\n",
    "BATCH_SIZE = 32\n",
    "BETA = 1\n",
    "LATENT_DIM = 4\n",
    "FINAL_CAPACITY = 1\n",
    "FINAL_CAPACITY_STEP = 5000\n",
    "\n",
    "vae = VAE(latent_dim = LATENT_DIM)\n",
    "optimizer = torch.optim.Adam(vae.parameters(), lr=LR, weight_decay=0)\n",
    "\n",
    "losses = []\n",
    "for i in tqdm(range(N_STEPS)):\n",
    "    \n",
    "    batch = torch.stack(random.sample(list(dataset.values()), BATCH_SIZE))\n",
    "    recon_batch, mu, logvar = vae(batch)\n",
    "    capacity = vae.update_capacity()\n",
    "    loss = loss_function(recon_batch, batch, mu, logvar, BETA, capacity)\n",
    "    \n",
    "    losses.append(loss.detach())\n",
    "    \n",
    "    optimizer.zero_grad()\n",
    "    loss.backward()\n",
    "    optimizer.step()\n",
    "    \n",
    "print(\"Loss on last batch was {}\".format(loss.detach()))"
   ]
  },
  {
   "cell_type": "code",
   "execution_count": 12,
   "metadata": {},
   "outputs": [
    {
     "data": {
      "text/plain": [
       "[<matplotlib.lines.Line2D at 0x7f1af40aa518>]"
      ]
     },
     "execution_count": 12,
     "metadata": {},
     "output_type": "execute_result"
    },
    {
     "data": {
      "image/png": "[encoded data removed]",
      "text/plain": [
       "<Figure size 432x288 with 1 Axes>"
      ]
     },
     "metadata": {
      "needs_background": "light"
     },
     "output_type": "display_data"
    }
   ],
   "source": [
    "plt.plot(losses[100:])"
   ]
  },
  {
   "cell_type": "markdown",
   "metadata": {},
   "source": [
    "### 2) Check that the VAE correctly reconstructs the state\n"
   ]
  },
  {
   "cell_type": "code",
   "execution_count": 13,
   "metadata": {},
   "outputs": [
    {
     "data": {
      "image/png": "[encoded data removed]",
      "text/plain": [
       "<Figure size 432x288 with 2 Axes>"
      ]
     },
     "metadata": {},
     "output_type": "display_data"
    }
   ],
   "source": [
    "def plot_state(obs, ax):\n",
    "    ax.pcolormesh(obs.reshape(env.dim, env.dim), edgecolors='gray', linewidth=2)\n",
    "    ax.set_aspect('equal')\n",
    "    ax.set_xticks([])\n",
    "    ax.set_yticks([])\n",
    "    \n",
    "    return ax\n",
    "\n",
    "n_steps = 10\n",
    "\n",
    "fig, (ax1,ax2) = plt.subplots(2, 1)\n",
    "\n",
    "ax1.set_title(\"Ground truth\")\n",
    "ax2.set_title(\"Reconstruction\")\n",
    "\n",
    "for i in range(n_steps+1):\n",
    "    \n",
    "    if i==0:\n",
    "        action = \"N\\A\"\n",
    "        obs_x = env.reset()\n",
    "    else:\n",
    "        action = env.action_space.sample().item()\n",
    "        obs_x = env.step(action)\n",
    "        \n",
    "    obs_z, _ = vae.encode(env.state.flatten())\n",
    "    obs_x_recon = vae.decode(obs_z)\n",
    "    \n",
    "    fig.suptitle('step {} : last action = {}'.format(i, action), fontsize=16)\n",
    "    \n",
    "    plot_state(obs_x.detach().numpy(),ax1)\n",
    "    plot_state(obs_x_recon.detach().numpy(),ax2)\n",
    "    \n",
    "    fig_fname = \"_data/testing_{}\".format(i)\n",
    "    plt.savefig(fig_fname + \".pdf\", bbox_inches='tight')\n",
    "    plt.savefig(fig_fname + \".png\", bbox_inches='tight')\n",
    "    \n",
    "    display.clear_output(wait=True)\n",
    "    display.display(plt.gcf())\n",
    "    time.sleep(0.5)\n",
    "    \n",
    "display.clear_output(wait=False)"
   ]
  },
  {
   "cell_type": "markdown",
   "metadata": {},
   "source": [
    "### 3) Inspect learned representations"
   ]
  },
  {
   "cell_type": "code",
   "execution_count": 14,
   "metadata": {},
   "outputs": [
    {
     "name": "stderr",
     "output_type": "stream",
     "text": [
      "/home/william/.local/lib/python3.6/site-packages/ipykernel_launcher.py:36: UserWarning: Matplotlib is currently using module://ipykernel.pylab.backend_inline, which is a non-GUI backend, so cannot show the figure.\n"
     ]
    },
    {
     "data": {
      "image/png": "[encoded data removed]",
      "text/plain": [
       "<Figure size 432x288 with 1 Axes>"
      ]
     },
     "metadata": {
      "needs_background": "light"
     },
     "output_type": "display_data"
    }
   ],
   "source": [
    "num_frames = sum(env.observation_space.shape)\n",
    "\n",
    "latent_points = []\n",
    "\n",
    "for i in range(num_frames):\n",
    "    frame = torch.zeros(num_frames)\n",
    "    frame[i] = 1\n",
    "    latent,var = vae.encode(frame)\n",
    "    latent_points.append(latent.detach().tolist())\n",
    "\n",
    "latent_map = np.array(latent_points)\n",
    "pca = GaussianRandomProjection(n_components=2)\n",
    "\n",
    "if LATENT_DIM == 2:\n",
    "    latent_2d = latent_map\n",
    "else: \n",
    "    latent_2d = pca.fit_transform(latent_map)\n",
    "\n",
    "fig = plt.figure(figsize=(6,4))\n",
    "ax = fig.add_subplot(111)#, projection='3d')\n",
    "s=[120]*5+[50]*6\n",
    "for i in range (100):\n",
    "    ax.scatter(x=latent_2d.transpose()[0][i],\n",
    "                y=latent_2d.transpose()[1][i],\n",
    "             #   zs=latent_2d.transpose()[2][i],\n",
    "                c=color[i//10], \n",
    "                s=s[i%10],\n",
    "                marker=marks[i%10])\n",
    " #   ax.set_xlim(-.6/1.4,.6/1.4)\n",
    "  #  ax.set_ylim(-.8/1.4,.8/1.4)\n",
    "  #  ax.set_zlim(-1./1.6,1./1.6)\n",
    "    #ax.view_init(elev=45, azim=45)\n",
    "plt.title('CCI-VAE',fontsize=16)\n",
    "plt.xticks(fontsize=14)\n",
    "plt.yticks(fontsize=14)\n",
    "fig.show()\n",
    "plt.savefig(\"ccivae.png\", bbox_inches='tight')"
   ]
  },
  {
   "cell_type": "markdown",
   "metadata": {},
   "source": [
    "# Representations learned by a hyperspherical VAE\n",
    "\n",
    "The VAE does place the representations roughly within a centered blob, but no structure is apparent. Perhaps a more structured latent space would be helpful? We now turn to hyperspherical VAEs, which use a spherical latent space as in our work.\n",
    "\n",
    "### 1) Define and train hyperspherical VAE\n",
    "\n",
    "The following code derives from the pytorch repo on github https://github.com/nicola-decao/s-vae-pytorch"
   ]
  },
  {
   "cell_type": "code",
   "execution_count": 15,
   "metadata": {},
   "outputs": [],
   "source": [
    "from src.hyperspherical_utils import VonMisesFisher\n",
    "from src.hyperspherical_utils import HypersphericalUniform"
   ]
  },
  {
   "cell_type": "code",
   "execution_count": 16,
   "metadata": {},
   "outputs": [],
   "source": [
    "class HVAE(torch.nn.Module):\n",
    "    \n",
    "    def __init__(self, latent_dim=4, activation=F.relu, distribution='normal'):\n",
    "        \"\"\"\n",
    "        ModelVAE initializer\n",
    "        :param h_dim: dimension of the hidden layers\n",
    "        :param latent_dim: dimension of the latent representation\n",
    "        :param activation: callable activation function\n",
    "        :param distribution: string either `normal` or `vmf`, indicates which distribution to use\n",
    "        \"\"\"\n",
    "        super(HVAE, self).__init__()\n",
    "        \n",
    "        self.latent_dim, self.activation, self.distribution = latent_dim, activation, distribution\n",
    "        \n",
    "        # 2 hidden layers encoder\n",
    "        self.fc_e0 = nn.Linear(100, 256)\n",
    "        self.fc_e1 = nn.Linear(256, 64)\n",
    "\n",
    "        if self.distribution == 'normal':\n",
    "            # compute mean and std of the normal distribution\n",
    "            self.fc_mean = nn.Linear(64, latent_dim)\n",
    "            self.fc_var =  nn.Linear(64, latent_dim)\n",
    "        elif self.distribution == 'vmf':\n",
    "            # compute mean and concentration of the von Mises-Fisher\n",
    "            self.fc_mean = nn.Linear(64, latent_dim)\n",
    "            self.fc_var = nn.Linear(64, 1)\n",
    "        else:\n",
    "            raise NotImplemented\n",
    "            \n",
    "        # 2 hidden layers decoder\n",
    "        self.fc_d0 = nn.Linear(latent_dim, 64)\n",
    "        self.fc_d1 = nn.Linear(64, 256)\n",
    "        self.fc_logits = nn.Linear(256, 100)\n",
    "\n",
    "    def encode(self, x):\n",
    "        # 2 hidden layers encoder\n",
    "        x = self.activation(self.fc_e0(x))\n",
    "        x = self.activation(self.fc_e1(x))\n",
    "        \n",
    "        if self.distribution == 'normal':\n",
    "            # compute mean and std of the normal distribution\n",
    "            z_mean = self.fc_mean(x)\n",
    "            z_var = F.softplus(self.fc_var(x))\n",
    "        elif self.distribution == 'vmf':\n",
    "            # compute mean and concentration of the von Mises-Fisher\n",
    "            z_mean = self.fc_mean(x)\n",
    "            z_mean = z_mean / z_mean.norm(dim=-1, keepdim=True)\n",
    "            # the `+ 1` prevent collapsing behaviors\n",
    "            z_var = F.softplus(self.fc_var(x)) + 1\n",
    "        else:\n",
    "            raise NotImplemented\n",
    "        \n",
    "        return z_mean, z_var\n",
    "        \n",
    "    def decode(self, z):\n",
    "        \n",
    "        x = self.activation(self.fc_d0(z))\n",
    "        x = self.activation(self.fc_d1(x))\n",
    "        x = self.fc_logits(x)\n",
    "        \n",
    "        return x\n",
    "        \n",
    "    def reparameterize(self, z_mean, z_var):\n",
    "        if self.distribution == 'normal':\n",
    "            q_z = torch.distributions.normal.Normal(z_mean, z_var)\n",
    "            p_z = torch.distributions.normal.Normal(torch.zeros_like(z_mean), torch.ones_like(z_var))\n",
    "        elif self.distribution == 'vmf':\n",
    "            q_z = VonMisesFisher(z_mean, z_var)\n",
    "            p_z = HypersphericalUniform(self.latent_dim - 1)\n",
    "        else:\n",
    "            raise NotImplemented\n",
    "\n",
    "        return q_z, p_z\n",
    "        \n",
    "    def forward(self, x): \n",
    "        z_mean, z_var = self.encode(x)\n",
    "        q_z, p_z = self.reparameterize(z_mean, z_var)\n",
    "        z = q_z.rsample()\n",
    "        x_ = self.decode(z)\n",
    "        \n",
    "        return (z_mean, z_var), (q_z, p_z), z, x_\n",
    "    "
   ]
  },
  {
   "cell_type": "code",
   "execution_count": 17,
   "metadata": {},
   "outputs": [
    {
     "name": "stderr",
     "output_type": "stream",
     "text": [
      "100%|██████████| 5000/5000 [00:57<00:00, 87.54it/s] "
     ]
    },
    {
     "name": "stdout",
     "output_type": "stream",
     "text": [
      "Loss on last batch was 7.250359535217285\n"
     ]
    },
    {
     "name": "stderr",
     "output_type": "stream",
     "text": [
      "\n"
     ]
    }
   ],
   "source": [
    "LR = 1e-3\n",
    "N_STEPS = 5000\n",
    "BATCH_SIZE = 32\n",
    "LATENT_DIM = 4\n",
    "DISTRIBUTION = 'vmf'\n",
    "\n",
    "hvae = HVAE(latent_dim = LATENT_DIM, distribution = DISTRIBUTION)\n",
    "optimizer = torch.optim.Adam(hvae.parameters(), lr=LR, weight_decay=0)\n",
    "\n",
    "for i in tqdm(range(N_STEPS)):\n",
    "    \n",
    "    batch = torch.stack(random.sample(list(dataset.values()), BATCH_SIZE))\n",
    "    \n",
    "    _, (q_z, p_z), _, recon_batch = hvae(batch)\n",
    "    loss_recon = nn.BCEWithLogitsLoss(reduction='sum')(recon_batch, batch)\n",
    "    \n",
    "    if hvae.distribution == 'normal':\n",
    "        loss_KL = torch.distributions.kl.kl_divergence(q_z, p_z).sum(-1).mean()\n",
    "    elif hvae.distribution == 'vmf':\n",
    "        loss_KL = torch.distributions.kl.kl_divergence(q_z, p_z).mean()\n",
    "    else:\n",
    "        raise NotImplemented\n",
    "\n",
    "    loss = loss_recon + loss_KL \n",
    "    \n",
    "    optimizer.zero_grad()\n",
    "    loss.backward()\n",
    "    optimizer.step()\n",
    "    \n",
    "print(\"Loss on last batch was {}\".format(loss.detach()))"
   ]
  },
  {
   "cell_type": "markdown",
   "metadata": {},
   "source": [
    "### 2) Check that the HVAE correctly reconstructs the state"
   ]
  },
  {
   "cell_type": "code",
   "execution_count": 18,
   "metadata": {},
   "outputs": [
    {
     "data": {
      "image/png": "[encoded data removed]",
      "text/plain": [
       "<Figure size 432x288 with 2 Axes>"
      ]
     },
     "metadata": {},
     "output_type": "display_data"
    }
   ],
   "source": [
    "def plot_state(obs, ax):\n",
    "    ax.pcolormesh(obs.reshape(env.dim, env.dim), edgecolors='gray', linewidth=2)\n",
    "    ax.set_aspect('equal')\n",
    "    ax.set_xticks([])\n",
    "    ax.set_yticks([])\n",
    "    \n",
    "    return ax\n",
    "\n",
    "n_steps = 10\n",
    "\n",
    "fig, (ax1,ax2) = plt.subplots(2, 1)\n",
    "\n",
    "ax1.set_title(\"Ground truth\")\n",
    "ax2.set_title(\"Reconstruction\")\n",
    "\n",
    "for i in range(n_steps+1):\n",
    "    \n",
    "    if i==0:\n",
    "        action = \"N\\A\"\n",
    "        obs_x = env.reset()\n",
    "    else:\n",
    "        action = env.action_space.sample().item()\n",
    "        obs_x = env.step(action)\n",
    "        \n",
    "    _, (q_z, p_z), _, obs_x_recon = hvae(env.state.flatten())\n",
    "    \n",
    "    fig.suptitle('step {} : last action = {}'.format(i, action), fontsize=16)\n",
    "    \n",
    "    plot_state(obs_x.detach().numpy(),ax1)\n",
    "    plot_state(F.softmax(obs_x_recon.detach(),dim=0).numpy(),ax2)\n",
    "    \n",
    "    fig_fname = \"_data/testing_{}\".format(i)\n",
    "    plt.savefig(fig_fname + \".pdf\", bbox_inches='tight')\n",
    "    plt.savefig(fig_fname + \".png\", bbox_inches='tight')\n",
    "    \n",
    "    display.clear_output(wait=True)\n",
    "    display.display(plt.gcf())\n",
    "    time.sleep(0.5)\n",
    "    \n",
    "display.clear_output(wait=False)"
   ]
  },
  {
   "cell_type": "markdown",
   "metadata": {},
   "source": [
    "### 3) Inspect learned representations"
   ]
  },
  {
   "cell_type": "code",
   "execution_count": 19,
   "metadata": {},
   "outputs": [
    {
     "name": "stderr",
     "output_type": "stream",
     "text": [
      "/home/william/.local/lib/python3.6/site-packages/ipykernel_launcher.py:41: UserWarning: Matplotlib is currently using module://ipykernel.pylab.backend_inline, which is a non-GUI backend, so cannot show the figure.\n"
     ]
    },
    {
     "data": {
      "image/png": "[encoded data removed]",
      "text/plain": [
       "<Figure size 432x288 with 1 Axes>"
      ]
     },
     "metadata": {
      "needs_background": "light"
     },
     "output_type": "display_data"
    }
   ],
   "source": [
    "num_frames = sum(env.observation_space.shape)\n",
    "\n",
    "latent_points = []\n",
    "\n",
    "for i in range(num_frames):\n",
    "    frame = torch.zeros(num_frames)\n",
    "    frame[i] = 1\n",
    "    latent,_ = hvae.encode(frame)\n",
    "    latent_points.append(latent.detach().tolist())\n",
    "\n",
    "latent_map = np.array(latent_points)\n",
    "    \n",
    "least_important_dim = latent_map.std(axis=0).argmin()\n",
    "axes_to_select = []\n",
    "for i in range(LATENT_DIM):\n",
    "    if i != least_important_dim:\n",
    "        axes_to_select.append(i)\n",
    "latent_map = latent_map[:,axes_to_select]\n",
    "                        \n",
    "latitudes = np.pi/2-np.arccos(latent_map[:,2])\n",
    "longitudes = np.arctan2(latent_map[:,0],latent_map[:,1])\n",
    "new_z = np.sqrt(1+np.cos(latitudes)*np.cos(longitudes/2))\n",
    "new_x = np.cos(latitudes) * np.sin(longitudes/2) / new_z\n",
    "new_y = np.sin(latitudes) / new_z\n",
    "\n",
    "period = 10\n",
    "\n",
    "color=['#1f77b4', '#ff7f0e', '#2ca02c', '#d62728', '#9467bd', '#8c564b', '#e377c2', '#7f7f7f', '#bcbd22', '#17becf',\"#2fa36b\"]\n",
    "marks=[\"1\",\"2\",\"3\",\"4\",\"+\",\">\",\"<\",\"^\",\"v\",\"x\",\"d\"]\n",
    "\n",
    "fig = plt.figure(figsize=(6,4))\n",
    "ax = fig.add_subplot(111)\n",
    "for i in range (period**2):\n",
    "    ax.scatter(new_x[i],new_y[i],\n",
    "                c=color[i//period], \n",
    "                s=s[i%period],\n",
    "                marker=marks[i%period])\n",
    "plt.title('Representations - HVAE',fontsize=16)\n",
    "plt.xticks(fontsize=14)\n",
    "plt.yticks(fontsize=14)\n",
    "fig.show()\n",
    "plt.savefig(\"hvae.png\", bbox_inches='tight')"
   ]
  },
  {
   "cell_type": "code",
   "execution_count": null,
   "metadata": {},
   "outputs": [],
   "source": []
  }
 ],
 "metadata": {
  "kernelspec": {
   "display_name": "Python 3",
   "language": "python",
   "name": "python3"
  },
  "language_info": {
   "codemirror_mode": {
    "name": "ipython",
    "version": 3
   },
   "file_extension": ".py",
   "mimetype": "text/x-python",
   "name": "python",
   "nbconvert_exporter": "python",
   "pygments_lexer": "ipython3",
   "version": "3.6.9"
  }
 },
 "nbformat": 4,
 "nbformat_minor": 2
}
