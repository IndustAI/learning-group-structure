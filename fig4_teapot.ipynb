{
 "cells": [
  {
   "cell_type": "markdown",
   "metadata": {},
   "source": [
    "# Learning Disentangled Representations using sequential images of a teapot"
   ]
  },
  {
   "cell_type": "code",
   "execution_count": 1,
   "metadata": {
    "colab": {},
    "colab_type": "code",
    "id": "fzbHi0-9DOf9"
   },
   "outputs": [],
   "source": [
    "from mpl_toolkits import mplot3d\n",
    "import matplotlib.pyplot as plt\n",
    "import random\n",
    "import numpy as np\n",
    "from PIL import Image\n",
    "from tqdm import tqdm\n",
    "import os"
   ]
  },
  {
   "cell_type": "markdown",
   "metadata": {},
   "source": [
    "### Create dataset\n",
    "\n",
    "Code to generate this dataset borrows from\n",
    "https://medium.com/@yzhong.cs/beyond-data-scientist-3d-plots-in-python-with-examples-2a8bd7aa654b\n",
    "\n",
    "The following cells generate sequential images of a teapot, where at each step an action, corresponding to either a rotation in viewpoint or a change in colour, was performed to generate the next image."
   ]
  },
  {
   "cell_type": "code",
   "execution_count": 2,
   "metadata": {
    "colab": {},
    "colab_type": "code",
    "id": "wq92cSAWU0IL"
   },
   "outputs": [],
   "source": [
    "CREATE_DATASET = True"
   ]
  },
  {
   "cell_type": "markdown",
   "metadata": {},
   "source": [
    "First load teapot object, which is borrowed from the Stanford Computer Graphics Lab at https://graphics.stanford.edu/courses/cs148-10-summer/as3/code/as3/teapot.obj"
   ]
  },
  {
   "cell_type": "code",
   "execution_count": 3,
   "metadata": {
    "colab": {},
    "colab_type": "code",
    "id": "CwtplJ9rDnzp"
   },
   "outputs": [],
   "source": [
    "# Load teapot.obj\n",
    "\n",
    "if CREATE_DATASET:\n",
    "\n",
    "    import numpy as np\n",
    "    def read_obj(filename):\n",
    "        triangles = []\n",
    "        vertices = []\n",
    "        with open(filename) as file:\n",
    "            for line in file:\n",
    "                components = line.strip(' \\n').split(' ')\n",
    "                if components[0] == \"f\": # face data\n",
    "                    # e.g. \"f 1/1/1/ 2/2/2 3/3/3 4/4/4 ...\"\n",
    "                    indices = list(map(lambda c: int(c.split('/')[0]) - 1, components[1:]))\n",
    "                    for i in range(0, len(indices) - 2):\n",
    "                        triangles.append(indices[i: i+3])\n",
    "                elif components[0] == \"v\": # vertex data\n",
    "                    # e.g. \"v  30.2180 89.5757 -76.8089\"\n",
    "                    vertex = list(map(lambda c: float(c), components[1:]))\n",
    "                    vertices.append(vertex)\n",
    "        return np.array(vertices), np.array(triangles)"
   ]
  },
  {
   "cell_type": "markdown",
   "metadata": {},
   "source": [
    "Now generate a dataset, consisting of 1000 sequential images"
   ]
  },
  {
   "cell_type": "code",
   "execution_count": 4,
   "metadata": {
    "colab": {
     "base_uri": "https://localhost:8080/",
     "height": 35
    },
    "colab_type": "code",
    "id": "tmh4BCFvVc39",
    "outputId": "9e1b2f08-e318-44e7-fff7-d93cabd24138"
   },
   "outputs": [],
   "source": [
    "if CREATE_DATASET:\n",
    "    \n",
    "    N_DATA = 1000\n",
    "    \n",
    "    folder = 'teapot/'\n",
    "\n",
    "    vertices, triangles = read_obj(folder+'teapot.obj')\n",
    "    angle = 2*np.pi / 5\n",
    "    colors = [[0,0,0],[255,0,0],[255,255,255],[0,255,0],[0,0,255]]\n",
    "    color_index = 0\n",
    "    actions = []\n",
    "\n",
    "    for i in tqdm(range(N_DATA)):\n",
    "        \n",
    "        # First, plot 3D image of a teapot and save as image\n",
    "\n",
    "        x = np.asarray(vertices[:,0]).squeeze()\n",
    "        y = np.asarray(vertices[:,1]).squeeze()\n",
    "        z = np.asarray(vertices[:,2]).squeeze()\n",
    "\n",
    "        fig = plt.figure()\n",
    "        ax = fig.add_subplot(111, projection='3d')\n",
    "        ax.grid(None)\n",
    "        ax.axis('off')\n",
    "        ax.set_xlim([-3, 3])\n",
    "        ax.set_ylim([-3, 3])\n",
    "        ax.set_zlim([0, 3])\n",
    "        ax.plot_trisurf(x, z, triangles, y, shade=True, color='white')\n",
    "        ax.view_init(100, angle)\n",
    "        plt.savefig(folder+'teapot'+str(i)+'.png')\n",
    "        plt.close()\n",
    "        \n",
    "        # Then load the image, crop, resize it, and change background color\n",
    "\n",
    "        img = Image.open('teapot/teapot'+str(i)+'.png').convert('RGB')\n",
    "        img = img.crop((100,0,350,258))\n",
    "        img = img.resize((84,84))\n",
    "        arr = np.array(img)\n",
    "        arr = np.where(arr == [255,255,255], colors[color_index], arr)\n",
    "        np.save(folder+'small_teapot/teapot'+str(i),arr)\n",
    "        \n",
    "        # Now select an action to perform that changes the scene.\n",
    "\n",
    "        action = random.randrange(8)\n",
    "\n",
    "        if action == 0: # y rotation, positive\n",
    "            m = np.matrix([[np.cos(angle), 0, np.sin(angle)],[0,1,0],[-np.sin(angle), 0, np.cos(angle)]])\n",
    "        elif action == 1: # y rotation, negative\n",
    "            m = np.matrix([[np.cos(angle), 0, -np.sin(angle)],[0,1,0],[np.sin(angle), 0, np.cos(angle)]])\n",
    "        elif action == 2: # z rotation, positive   \n",
    "            m = np.matrix([[1,0,0],[0, np.cos(angle), np.sin(angle)],[0, -np.sin(angle), np.cos(angle)]])\n",
    "        elif action == 3: # z rotation, positive\n",
    "            m = np.matrix([[1,0,0],[0, np.cos(angle), -np.sin(angle)],[0, np.sin(angle), np.cos(angle)]])\n",
    "        elif action == 4: # x rotation, positive\n",
    "            m = np.matrix([[np.cos(angle), np.sin(angle), 0],[-np.sin(angle), np.cos(angle), 0],[0,0,1]])\n",
    "        elif action == 5: # x rotation, positive\n",
    "            m = np.matrix([[np.cos(angle), -np.sin(angle), 0],[np.sin(angle), np.cos(angle), 0],[0,0,1]])\n",
    "        elif action ==6: # Change color by +1 increment\n",
    "            m = np.matrix([[1, 0, 0],[0,1,0],[0,0,1]])\n",
    "            color_index = (color_index + 1) % 5\n",
    "        elif action ==7: # Change color by -1 increment\n",
    "            m = np.matrix([[1, 0, 0],[0,1,0],[0,0,1]])\n",
    "            color_index = (color_index - 1) % 5\n",
    "\n",
    "        actions.append(action)\n",
    "        \n",
    "        # Change viewpoint of teapot\n",
    "        vertices = vertices*m\n",
    "\n",
    "    # Save action sequence\n",
    "    np.save(folder+'actions',actions)"
   ]
  },
  {
   "cell_type": "markdown",
   "metadata": {},
   "source": [
    "### Show a sample from this dataset"
   ]
  },
  {
   "cell_type": "code",
   "execution_count": 5,
   "metadata": {
    "colab": {
     "base_uri": "https://localhost:8080/",
     "height": 286
    },
    "colab_type": "code",
    "id": "Ql_TlcEPWCdI",
    "outputId": "9041dfc4-695e-4f87-9d69-d16045626fb1"
   },
   "outputs": [
    {
     "data": {
      "text/plain": [
       "<matplotlib.image.AxesImage at 0x7f9da498c208>"
      ]
     },
     "execution_count": 5,
     "metadata": {},
     "output_type": "execute_result"
    },
    {
     "data": {
      "image/png": "[encoded data removed]",
      "text/plain": [
       "<Figure size 432x288 with 1 Axes>"
      ]
     },
     "metadata": {
      "needs_background": "light"
     },
     "output_type": "display_data"
    }
   ],
   "source": [
    "plt.imshow(np.load('teapot/small_teapot/teapot290.npy'))"
   ]
  },
  {
   "cell_type": "markdown",
   "metadata": {
    "colab_type": "text",
    "id": "2dyYqmfzE1YI"
   },
   "source": [
    "# Learning Disentangled Representations\n",
    "\n",
    "Note: This works faster using a GPU"
   ]
  },
  {
   "cell_type": "code",
   "execution_count": 6,
   "metadata": {
    "colab": {},
    "colab_type": "code",
    "id": "T01mvFr2Jyi4"
   },
   "outputs": [],
   "source": [
    "import torch\n",
    "import torch.nn as nn\n",
    "import torch.nn.functional as F\n",
    "import torch.optim as optim"
   ]
  },
  {
   "cell_type": "code",
   "execution_count": 7,
   "metadata": {
    "colab": {},
    "colab_type": "code",
    "id": "PhwAGxsVGCOA"
   },
   "outputs": [],
   "source": [
    "device = torch.device(\"cuda\" if torch.cuda.is_available() else \"cpu\")"
   ]
  },
  {
   "cell_type": "markdown",
   "metadata": {},
   "source": [
    "### First, define a TeapotWorld class that can load sequences of states and actions from our dataset"
   ]
  },
  {
   "cell_type": "code",
   "execution_count": 8,
   "metadata": {
    "colab": {},
    "colab_type": "code",
    "id": "Y6V2lGyiExGm"
   },
   "outputs": [],
   "source": [
    "class TeapotWorld():\n",
    "    \n",
    "    class action_space():\n",
    "        def __init__(self,n_actions):\n",
    "            self.n = n_actions    \n",
    "\n",
    "    class observation_space():\n",
    "        def __init__(self,shape):\n",
    "            self.shape = shape\n",
    "    \n",
    "    def __init__(self, action_file, data_dir):\n",
    "\n",
    "        self.action_space = self.action_space(8)\n",
    "        self.observation_space = self.observation_space([84,84,3])\n",
    "        \n",
    "        self.actions = np.load(action_file)\n",
    "        self.data_dir = data_dir\n",
    "        self.n_data = len(self.actions)\n",
    "        self.dataset = self.load_dataset()\n",
    "        \n",
    "        self.current_idx = 0\n",
    "        \n",
    "        self.reset()\n",
    "\n",
    "    def load_dataset(self):\n",
    "        data = []\n",
    "        for idx in tqdm(range(self.n_data)):\n",
    "            data.append(self.load_image(idx))\n",
    "        return torch.stack(data)\n",
    "        \n",
    "    def reset(self):\n",
    "        self.current_idx = random.randrange(self.n_data-10)\n",
    "        return self.get_observation()\n",
    "\n",
    "    def load_image(self, idx):\n",
    "        data_file = 'teapot'+str(idx)+'.npy'\n",
    "        obs = np.load(self.data_dir+data_file)\n",
    "        return torch.FloatTensor(obs/255)\n",
    "\n",
    "    def get_observation(self, idx=None):\n",
    "        if idx == None:\n",
    "            idx = self.current_idx\n",
    "        obs = self.dataset[idx]\n",
    "        return obs.to(device)\n",
    "    \n",
    "    def get_action(self):\n",
    "        return self.actions[self.current_idx]\n",
    "\n",
    "    def step(self):\n",
    "        self.current_idx += 1\n",
    "        return self.get_observation()\n",
    "\n",
    "    def get_batch(self, batch_size):\n",
    "        idx = random.sample(range(self.n_data),batch_size)\n",
    "        batch = []\n",
    "        for i in idx:\n",
    "            batch.append(self.get_observation(idx=i))\n",
    "        batch = torch.stack(batch)\n",
    "        return batch.to(device)"
   ]
  },
  {
   "cell_type": "markdown",
   "metadata": {},
   "source": [
    "**Check that TeapotWorld loads correctly**"
   ]
  },
  {
   "cell_type": "code",
   "execution_count": 9,
   "metadata": {
    "colab": {
     "base_uri": "https://localhost:8080/",
     "height": 35
    },
    "colab_type": "code",
    "id": "bq9ebNkME7bA",
    "outputId": "ad7d4a36-3afd-4cc8-9303-ce6068140aca"
   },
   "outputs": [
    {
     "name": "stderr",
     "output_type": "stream",
     "text": [
      "100%|██████████| 1000/1000 [00:01<00:00, 676.83it/s]\n"
     ]
    }
   ],
   "source": [
    "env = TeapotWorld('teapot/actions.npy','teapot/small_teapot/')"
   ]
  },
  {
   "cell_type": "markdown",
   "metadata": {},
   "source": [
    "### Define encoder and decoder. \n",
    "\n",
    "These are based on the neural networks used in the \"Human-level control through deep reinforcement learning\" DQN paper, since the observations have pretty much the same dimensions"
   ]
  },
  {
   "cell_type": "code",
   "execution_count": 10,
   "metadata": {
    "colab": {},
    "colab_type": "code",
    "id": "UmT3ElE1GXU1"
   },
   "outputs": [],
   "source": [
    "def init_weights(m, gain):\n",
    "    if (type(m) == nn.Linear) | (type(m) == nn.Conv2d) | (type(m) == nn.ConvTranspose2d):\n",
    "        nn.init.orthogonal_(m.weight, gain)\n",
    "        nn.init.zeros_(m.bias)\n",
    "\n",
    "class Encoder(nn.Module):\n",
    "\n",
    "    def __init__(self, n_out=5, n_hid = 128, weight_scale=5):\n",
    "\n",
    "        super().__init__()\n",
    "\n",
    "        self.conv = nn.Sequential(nn.Conv2d(3, 16, 8, stride=4),\n",
    "                                  nn.ReLU(),\n",
    "                                  nn.Conv2d(16, 32, 4, stride=2),\n",
    "                                  nn.ReLU(),\n",
    "                                  nn.Conv2d(32, 32, 3, stride=1),\n",
    "                                  nn.ReLU())\n",
    "\n",
    "        self.output = nn.Sequential(nn.Linear(32 * 7 * 7, n_hid),\n",
    "                                  nn.ReLU(),\n",
    "                                  nn.Linear(n_hid, n_out))\n",
    "        \n",
    "        self.conv.apply(lambda x: init_weights(x, weight_scale))\n",
    "        self.output.apply(lambda x: init_weights(x, weight_scale))\n",
    "\n",
    "    def forward(self, obs):\n",
    "        if len(obs.shape) != 4:\n",
    "            obs = obs.unsqueeze(0)\n",
    "        obs = obs.permute(0, 3, 1, 2)\n",
    "        obs = obs/255\n",
    "        obs = self.conv(obs)\n",
    "        obs = obs.contiguous().view(obs.size(0), -1)\n",
    "        return F.normalize(self.output(obs)).squeeze()\n",
    "\n",
    "class Decoder(nn.Module):\n",
    "    \n",
    "    def __init__(self, n_in=5, n_hid = 128, weight_scale=5):\n",
    "\n",
    "        super().__init__()\n",
    "        \n",
    "        self.fc1 = nn.Linear(n_in, n_hid)\n",
    "        self.fc2 = nn.Linear(n_hid, 32 * 7 * 7)\n",
    "\n",
    "        self.conv = nn.Sequential(nn.ConvTranspose2d(32, 32, 3, stride=1),\n",
    "                                  nn.ReLU(),\n",
    "                                  nn.ConvTranspose2d(32, 16, 4, stride=2),\n",
    "                                  nn.ReLU(),\n",
    "                                  nn.ConvTranspose2d(16, 3, 8, stride=4),\n",
    "                                  )\n",
    "        \n",
    "        self.conv.apply(lambda x: init_weights(x, weight_scale))\n",
    "        init_weights(self.fc1, weight_scale)\n",
    "        init_weights(self.fc2, weight_scale)\n",
    "\n",
    "    def forward(self, x):\n",
    "        if len(x.shape) == 1:\n",
    "            x = x.unsqueeze(0)\n",
    "        x = F.relu(self.fc1(x))\n",
    "        x = F.relu(self.fc2(x))\n",
    "        batch_size = x.shape[0]\n",
    "        x = x.reshape(batch_size,32,7,7)\n",
    "        x = self.conv(x).permute(0,2,3,1)\n",
    "        return torch.sigmoid(x).squeeze()"
   ]
  },
  {
   "cell_type": "markdown",
   "metadata": {},
   "source": [
    "**Check dimensions**"
   ]
  },
  {
   "cell_type": "code",
   "execution_count": 11,
   "metadata": {
    "colab": {
     "base_uri": "https://localhost:8080/",
     "height": 481
    },
    "colab_type": "code",
    "id": "pC69SHDsGcNs",
    "outputId": "a6143540-a850-4739-906b-63e44a007528"
   },
   "outputs": [
    {
     "name": "stdout",
     "output_type": "stream",
     "text": [
      "Encoder(\n",
      "  (conv): Sequential(\n",
      "    (0): Conv2d(3, 16, kernel_size=(8, 8), stride=(4, 4))\n",
      "    (1): ReLU()\n",
      "    (2): Conv2d(16, 32, kernel_size=(4, 4), stride=(2, 2))\n",
      "    (3): ReLU()\n",
      "    (4): Conv2d(32, 32, kernel_size=(3, 3), stride=(1, 1))\n",
      "    (5): ReLU()\n",
      "  )\n",
      "  (output): Sequential(\n",
      "    (0): Linear(in_features=1568, out_features=128, bias=True)\n",
      "    (1): ReLU()\n",
      "    (2): Linear(in_features=128, out_features=5, bias=True)\n",
      "  )\n",
      ")\n",
      "Decoder(\n",
      "  (fc1): Linear(in_features=5, out_features=128, bias=True)\n",
      "  (fc2): Linear(in_features=128, out_features=1568, bias=True)\n",
      "  (conv): Sequential(\n",
      "    (0): ConvTranspose2d(32, 32, kernel_size=(3, 3), stride=(1, 1))\n",
      "    (1): ReLU()\n",
      "    (2): ConvTranspose2d(32, 16, kernel_size=(4, 4), stride=(2, 2))\n",
      "    (3): ReLU()\n",
      "    (4): ConvTranspose2d(16, 3, kernel_size=(8, 8), stride=(4, 4))\n",
      "  )\n",
      ")\n"
     ]
    }
   ],
   "source": [
    "encoder = Encoder(n_out=5).to(device)\n",
    "decoder = Decoder(n_in=5).to(device)\n",
    "print(encoder)\n",
    "print(decoder)"
   ]
  },
  {
   "cell_type": "code",
   "execution_count": 12,
   "metadata": {
    "colab": {
     "base_uri": "https://localhost:8080/",
     "height": 71
    },
    "colab_type": "code",
    "id": "mUcQlPsQGfaV",
    "outputId": "9d99b8eb-648c-45e5-b5ec-db62d6ab0c51"
   },
   "outputs": [
    {
     "name": "stdout",
     "output_type": "stream",
     "text": [
      "torch.Size([84, 84, 3])\n",
      "torch.Size([5])\n",
      "torch.Size([84, 84, 3])\n"
     ]
    }
   ],
   "source": [
    "obs = env.reset()\n",
    "print(obs.shape)\n",
    "latent = encoder(obs)\n",
    "print(latent.shape)\n",
    "reconstructed = decoder(latent)\n",
    "print(reconstructed.shape)"
   ]
  },
  {
   "cell_type": "markdown",
   "metadata": {},
   "source": [
    "**Representation**\n",
    "\n",
    "The crux of the matter is learning to 'represent' actions in the observation space with actions in latent space.  Here, we will do this by assuming every action is a generalized rotation in latent space, which we denote with a series of 2-dimensional rotations.\n",
    "\n",
    "A 2-d rotation is given by:\n",
    "\n",
    "\\begin{pmatrix}\n",
    "\\cos(\\theta) & \\sin(\\theta) \\\\\n",
    "-\\sin(\\theta) & \\cos(\\theta)\n",
    "\\end{pmatrix}\n",
    "\n",
    "and we denote a rotation in dimensions $i$ and $j$ of a higher dimensional space as $R_{i,j}(\\theta)$.  For $i=1$, $j=4$, in a 4-dimensional space:\n",
    "\n",
    "\\begin{equation}\n",
    "R_{1,4}(\\theta) = \n",
    "\\begin{pmatrix}\n",
    "\\cos(\\theta) & 0 & 0 & \\sin(\\theta) \\\\\n",
    "0 & 1 & 0 & 0 \\\\\n",
    "0 & 0 & 1 & 0 \\\\\n",
    "-\\sin(\\theta) & 0 & 0 & \\cos(\\theta)\n",
    "\\end{pmatrix}\n",
    "\\end{equation}\n",
    "\n",
    "An arbitrary rotation, denoted $g$ as I am subtly moving towards this being a group action, can then be written as:\n",
    "\n",
    "\\begin{equation}\n",
    "    g(\\theta_{1,2},\\theta_{1,3},\\dots,\\theta_{n-1,n}) = \\prod_{i=1}^{n-1} \\prod_{j=1+1}^{n} R_{i,j}(\\theta_{i,j})\n",
    "\\end{equation}\n",
    "\n",
    "which has $n(n-1)/2$ free parameters (i.e. $\\theta_{i,j}$'s)."
   ]
  },
  {
   "cell_type": "code",
   "execution_count": 13,
   "metadata": {
    "colab": {},
    "colab_type": "code",
    "id": "MEjsloSiVW0R"
   },
   "outputs": [],
   "source": [
    "class Representation():\n",
    "\n",
    "    def __init__(self, dim=5):\n",
    "        self.dim = dim\n",
    "        self.params = dim*(dim-1)//2\n",
    "        self.thetas = torch.FloatTensor(2*torch.rand(self.params)-1).to(device).requires_grad_()\n",
    "\n",
    "        self.__matrix = None\n",
    "    \n",
    "    def set_thetas(self, thetas):\n",
    "        self.thetas = thetas\n",
    "        self.thetas.requires_grad = True\n",
    "        self.clear_matrix()\n",
    "    \n",
    "    def clear_matrix(self):\n",
    "        self.__matrix = None\n",
    "        \n",
    "    def get_matrix(self):\n",
    "        if self.__matrix is None:\n",
    "            k = 0\n",
    "            mats = []\n",
    "            for i in range(self.dim-1):\n",
    "                for j in range(self.dim-1-i):\n",
    "                    theta_ij = self.thetas[k]\n",
    "                    k+=1\n",
    "                    c, s = torch.cos(theta_ij), torch.sin(theta_ij)\n",
    "\n",
    "                    rotation_i = torch.eye(self.dim, self.dim).to(device)\n",
    "                    rotation_i[i, i] = c\n",
    "                    rotation_i[i, i+j+1] = s\n",
    "                    rotation_i[j+i+1, i] = -s\n",
    "                    rotation_i[j+i+1, j+i+1] = c\n",
    "\n",
    "                    mats.append(rotation_i)\n",
    "\n",
    "            def chain_mult(l):\n",
    "                if len(l)>=3:\n",
    "                    return l[0]@l[1]@chain_mult(l[2:])\n",
    "                elif len(l)==2:\n",
    "                    return l[0]@l[1]\n",
    "                else:\n",
    "                    return l[0]\n",
    "\n",
    "            self.__matrix = chain_mult(mats)\n",
    "                                    \n",
    "        return self.__matrix"
   ]
  },
  {
   "cell_type": "markdown",
   "metadata": {},
   "source": [
    "**LatentWorld**\n",
    "\n",
    "Now, for symmetry's sake, we'll also have a `LatentWorld` which acts as the environment in the latent space."
   ]
  },
  {
   "cell_type": "code",
   "execution_count": 14,
   "metadata": {
    "colab": {},
    "colab_type": "code",
    "id": "Hfy2Vfp6Va55"
   },
   "outputs": [],
   "source": [
    "class LatentWorld():\n",
    "    \n",
    "    class action_space():\n",
    "        def __init__(self,n_actions):\n",
    "            self.n = n_actions\n",
    "            \n",
    "        def sample(self, k=1):\n",
    "            return torch.randint(0,self.n,(k,))\n",
    "\n",
    "    class observation_space():\n",
    "        def __init__(self,n_features):\n",
    "            self.shape = [n_features]\n",
    "    \n",
    "    def __init__(self,\n",
    "                 dim=5,\n",
    "                 n_actions=8,\n",
    "                 action_reps=None):\n",
    "\n",
    "        self.dim = dim\n",
    "\n",
    "        self.action_space = self.action_space(n_actions)\n",
    "        self.observation_space = self.observation_space(dim)\n",
    "        \n",
    "        if action_reps is None:\n",
    "            self.action_reps = [Representation(dim=self.dim) for _ in range(n_actions)]\n",
    "        else:\n",
    "            if len(action_reps)!=n_actions:\n",
    "                raise Exception(\"Must pass an action representation for every action.\")\n",
    "            if not all([rep.dim==self.dim]):\n",
    "                raise Exception(\"Action representations do not act on the dimension of the latent space.\")\n",
    "            self.action_reps = action_reps\n",
    "        \n",
    "    def reset(self, state):\n",
    "        self.state = state\n",
    "        return self.get_observation()\n",
    "    \n",
    "    def clear_representations(self):\n",
    "        for rep in self.action_reps:\n",
    "            rep.clear_matrix()\n",
    "            \n",
    "    def get_representation_params(self):\n",
    "        params = []\n",
    "        for rep in self.action_reps:\n",
    "            params.append(rep.thetas)\n",
    "        return params\n",
    "    \n",
    "    def save_representations(self, path):\n",
    "        if os.path.splitext(path)[-1] != '.pth':\n",
    "            path += '.pth'\n",
    "        rep_thetas = [rep.thetas for rep in self.action_reps]\n",
    "        return torch.save(rep_thetas, path)\n",
    "    \n",
    "    def load_reprentations(self, path):\n",
    "        rep_thetas = torch.load(path)\n",
    "        for rep in self.action_reps:\n",
    "            rep.set_thetas(rep_thetas.pop(0))\n",
    "            \n",
    "    def get_observation(self):\n",
    "        return self.state\n",
    "    \n",
    "    def step(self,action):\n",
    "        self.state = torch.mv(self.action_reps[action].get_matrix(), self.state.squeeze())\n",
    "        obs = self.get_observation()\n",
    "        return obs"
   ]
  },
  {
   "cell_type": "markdown",
   "metadata": {},
   "source": [
    "**Entanglement regularisation**\n",
    "\n",
    "So for $m$ parameters, ${\\theta_1, \\dots, \\theta_m}$, we want to regularise with\n",
    "\\begin{equation}\n",
    "    \\sum_{i \\neq j} \\vert\\theta_i\\vert^2, \\mathrm{where\\ } \\theta_j {=} \\mathrm{max_k}({\\vert\\theta_k\\vert}).\n",
    "\\end{equation}\n",
    "We will also use this term as our metric of 'entanglement'."
   ]
  },
  {
   "cell_type": "code",
   "execution_count": 15,
   "metadata": {
    "colab": {
     "base_uri": "https://localhost:8080/",
     "height": 35
    },
    "colab_type": "code",
    "id": "M-ve_on4V5WC",
    "outputId": "5162cdf0-a4d6-41fa-dc9d-e6ecbd90975e"
   },
   "outputs": [
    {
     "data": {
      "text/plain": [
       "tensor(1.2500)"
      ]
     },
     "execution_count": 15,
     "metadata": {},
     "output_type": "execute_result"
    }
   ],
   "source": [
    "def calc_entanglement(params):\n",
    "    params = params.abs().pow(2)\n",
    "    return params.sum() - params.max()\n",
    "\n",
    "params = torch.FloatTensor([1,1,0.5,0,0])\n",
    "calc_entanglement(params)"
   ]
  },
  {
   "cell_type": "markdown",
   "metadata": {},
   "source": [
    "### Training with regularization\n",
    "\n",
    "We find it helpful to increase the regularization strength halfway during training"
   ]
  },
  {
   "cell_type": "code",
   "execution_count": 16,
   "metadata": {
    "colab": {
     "base_uri": "https://localhost:8080/",
     "height": 35
    },
    "colab_type": "code",
    "id": "tC7Ftiw-V89j",
    "outputId": "c4210021-6b42-4aac-e725-fb9b48b4f7bb"
   },
   "outputs": [
    {
     "name": "stderr",
     "output_type": "stream",
     "text": [
      "100%|██████████| 1000/1000 [00:00<00:00, 1754.53it/s]\n"
     ]
    }
   ],
   "source": [
    "dim=5\n",
    "\n",
    "obs_env = TeapotWorld('teapot/actions.npy','teapot/small_teapot/')\n",
    "lat_env = LatentWorld(dim = dim,\n",
    "                      n_actions = obs_env.action_space.n\n",
    "                     )\n",
    "decoder = Decoder(n_in = dim, n_hid = 128).to(device)\n",
    "encoder = Encoder(n_out = dim, n_hid = 128).to(device)\n",
    "\n",
    "optimizer_dec = optim.Adam(decoder.parameters(),\n",
    "                           lr=1e-3,\n",
    "#                            betas=(0.9, 0.99),\n",
    "                           weight_decay=0)\n",
    "\n",
    "optimizer_enc = optim.Adam(encoder.parameters(),\n",
    "                           lr=1e-3,\n",
    "#                            betas=(0.9, 0.99),\n",
    "                           weight_decay=0)\n",
    "\n",
    "optimizer_rep = optim.Adam(lat_env.get_representation_params(),\n",
    "                           lr=1e-2,\n",
    "#                            betas=(0.9, 0.99),\n",
    "                           weight_decay=0)\n",
    "\n",
    "losses = []\n",
    "entanglement = []\n",
    "orthogonality = []"
   ]
  },
  {
   "cell_type": "code",
   "execution_count": 17,
   "metadata": {
    "colab": {
     "base_uri": "https://localhost:8080/",
     "height": 196
    },
    "colab_type": "code",
    "id": "ew4uplkzWK_5",
    "outputId": "4fd4a9cb-8809-44c1-afec-b3edf5e74a6c"
   },
   "outputs": [
    {
     "name": "stdout",
     "output_type": "stream",
     "text": [
      "iter 100 : loss=8.301e-01 : entanglement=1.50e+00 : last 10 iters in 3.398s\n",
      "iter 200 : loss=8.234e-01 : entanglement=1.10e+00 : last 10 iters in 3.412s\n",
      "iter 300 : loss=7.464e-01 : entanglement=7.17e-01 : last 10 iters in 3.326s\n",
      "iter 400 : loss=6.625e-01 : entanglement=5.25e-01 : last 10 iters in 3.296s\n",
      "iter 500 : loss=6.165e-01 : entanglement=4.72e-01 : last 10 iters in 3.372s\n",
      "iter 600 : loss=4.312e-01 : entanglement=4.46e-01 : last 10 iters in 3.389s\n",
      "iter 700 : loss=3.550e-01 : entanglement=4.39e-01 : last 10 iters in 3.328s\n",
      "iter 800 : loss=2.399e-01 : entanglement=4.42e-01 : last 10 iters in 3.372s\n",
      "iter 900 : loss=1.676e-01 : entanglement=4.29e-01 : last 10 iters in 3.408s\n",
      "iter 1000 : loss=1.614e-01 : entanglement=5.21e-01 : last 10 iters in 3.788s\n",
      "iter 1100 : loss=1.492e-01 : entanglement=7.08e-01 : last 10 iters in 3.340s\n",
      "iter 1200 : loss=1.425e-01 : entanglement=7.89e-01 : last 10 iters in 3.372s\n",
      "iter 1300 : loss=1.357e-01 : entanglement=8.48e-01 : last 10 iters in 3.384s\n",
      "iter 1400 : loss=1.248e-01 : entanglement=8.88e-01 : last 10 iters in 3.416s\n",
      "iter 1500 : loss=1.295e-01 : entanglement=8.86e-01 : last 10 iters in 3.374s\n",
      "iter 1600 : loss=1.296e-01 : entanglement=8.93e-01 : last 10 iters in 3.390s\n",
      "iter 1700 : loss=1.212e-01 : entanglement=8.90e-01 : last 10 iters in 3.384s\n",
      "iter 1800 : loss=1.178e-01 : entanglement=8.89e-01 : last 10 iters in 3.327s\n",
      "iter 1900 : loss=1.226e-01 : entanglement=8.66e-01 : last 10 iters in 3.345s\n",
      "iter 2000 : loss=1.226e-01 : entanglement=8.80e-01 : last 10 iters in 3.365s\n",
      "iter 2100 : loss=1.156e-01 : entanglement=8.64e-01 : last 10 iters in 3.392s\n",
      "iter 2200 : loss=1.142e-01 : entanglement=8.59e-01 : last 10 iters in 3.336s\n",
      "iter 2300 : loss=1.164e-01 : entanglement=8.46e-01 : last 10 iters in 3.398s\n",
      "iter 2400 : loss=1.144e-01 : entanglement=8.43e-01 : last 10 iters in 3.356s\n",
      "iter 2500 : loss=1.121e-01 : entanglement=8.32e-01 : last 10 iters in 3.356s\n",
      "iter 2600 : loss=1.132e-01 : entanglement=8.24e-01 : last 10 iters in 3.344s\n",
      "iter 2700 : loss=1.144e-01 : entanglement=8.18e-01 : last 10 iters in 3.440s\n",
      "iter 2800 : loss=1.130e-01 : entanglement=8.05e-01 : last 10 iters in 3.405s\n",
      "iter 2900 : loss=1.130e-01 : entanglement=8.01e-01 : last 10 iters in 3.392s\n",
      "iter 3000 : loss=1.140e-01 : entanglement=7.92e-01 : last 10 iters in 3.428s\n",
      "iter 3100 : loss=1.165e-01 : entanglement=7.86e-01 : last 10 iters in 3.373s\n",
      "iter 3200 : loss=1.119e-01 : entanglement=7.82e-01 : last 10 iters in 3.740s\n",
      "iter 3300 : loss=1.125e-01 : entanglement=7.73e-01 : last 10 iters in 3.768s\n",
      "iter 3400 : loss=1.111e-01 : entanglement=7.62e-01 : last 10 iters in 3.769s\n",
      "iter 3500 : loss=1.106e-01 : entanglement=7.54e-01 : last 10 iters in 3.817s\n",
      "iter 3600 : loss=1.067e-01 : entanglement=7.44e-01 : last 10 iters in 3.804s\n",
      "iter 3700 : loss=1.155e-01 : entanglement=7.35e-01 : last 10 iters in 3.772s\n",
      "iter 3800 : loss=1.100e-01 : entanglement=7.31e-01 : last 10 iters in 3.788s\n",
      "iter 3900 : loss=1.091e-01 : entanglement=7.24e-01 : last 10 iters in 3.884s\n",
      "iter 4000 : loss=1.132e-01 : entanglement=7.20e-01 : last 10 iters in 3.892s\n",
      "iter 4100 : loss=1.092e-01 : entanglement=7.18e-01 : last 10 iters in 3.855s\n",
      "iter 4200 : loss=1.080e-01 : entanglement=7.05e-01 : last 10 iters in 3.933s\n",
      "iter 4300 : loss=1.078e-01 : entanglement=7.01e-01 : last 10 iters in 3.920s\n",
      "iter 4400 : loss=1.101e-01 : entanglement=7.02e-01 : last 10 iters in 3.965s\n",
      "iter 4500 : loss=1.109e-01 : entanglement=6.86e-01 : last 10 iters in 3.944s\n",
      "iter 4600 : loss=1.099e-01 : entanglement=6.84e-01 : last 10 iters in 3.988s\n",
      "iter 4700 : loss=1.076e-01 : entanglement=6.73e-01 : last 10 iters in 3.995s\n",
      "iter 4800 : loss=1.073e-01 : entanglement=6.74e-01 : last 10 iters in 4.090s\n",
      "iter 4900 : loss=1.042e-01 : entanglement=6.74e-01 : last 10 iters in 4.064s\n",
      "iter 5000 : loss=1.099e-01 : entanglement=6.69e-01 : last 10 iters in 4.104s\n",
      "iter 5100 : loss=1.503e-01 : entanglement=3.34e-01 : last 10 iters in 3.988s\n",
      "iter 5200 : loss=1.384e-01 : entanglement=2.47e-01 : last 10 iters in 3.882s\n",
      "iter 5300 : loss=1.256e-01 : entanglement=1.54e-01 : last 10 iters in 3.868s\n",
      "iter 5400 : loss=1.206e-01 : entanglement=8.89e-02 : last 10 iters in 4.004s\n",
      "iter 5500 : loss=1.173e-01 : entanglement=4.64e-02 : last 10 iters in 3.896s\n",
      "iter 5600 : loss=1.177e-01 : entanglement=2.57e-02 : last 10 iters in 3.940s\n",
      "iter 5700 : loss=1.125e-01 : entanglement=1.45e-02 : last 10 iters in 3.963s\n",
      "iter 5800 : loss=1.116e-01 : entanglement=8.64e-03 : last 10 iters in 3.824s\n",
      "iter 5900 : loss=1.104e-01 : entanglement=4.99e-03 : last 10 iters in 3.836s\n",
      "iter 6000 : loss=1.097e-01 : entanglement=3.90e-03 : last 10 iters in 3.912s\n",
      "iter 6100 : loss=1.103e-01 : entanglement=2.56e-03 : last 10 iters in 3.904s\n",
      "iter 6200 : loss=1.065e-01 : entanglement=1.83e-03 : last 10 iters in 3.884s\n",
      "iter 6300 : loss=1.079e-01 : entanglement=1.38e-03 : last 10 iters in 3.880s\n",
      "iter 6400 : loss=1.089e-01 : entanglement=1.41e-03 : last 10 iters in 3.888s\n",
      "iter 6500 : loss=1.066e-01 : entanglement=9.59e-04 : last 10 iters in 3.941s\n",
      "iter 6600 : loss=1.051e-01 : entanglement=9.38e-04 : last 10 iters in 3.915s\n",
      "iter 6700 : loss=1.085e-01 : entanglement=7.41e-04 : last 10 iters in 3.960s\n",
      "iter 6800 : loss=1.065e-01 : entanglement=6.89e-04 : last 10 iters in 3.920s\n",
      "iter 6900 : loss=1.074e-01 : entanglement=8.87e-04 : last 10 iters in 4.000s\n",
      "iter 7000 : loss=1.072e-01 : entanglement=6.43e-04 : last 10 iters in 4.032s\n",
      "iter 7100 : loss=1.077e-01 : entanglement=6.19e-04 : last 10 iters in 4.036s\n",
      "iter 7200 : loss=1.054e-01 : entanglement=5.41e-04 : last 10 iters in 4.092s\n",
      "iter 7300 : loss=1.081e-01 : entanglement=5.11e-04 : last 10 iters in 4.076s\n",
      "iter 7400 : loss=1.095e-01 : entanglement=5.76e-04 : last 10 iters in 4.067s\n",
      "iter 7500 : loss=1.025e-01 : entanglement=5.35e-04 : last 10 iters in 4.107s\n",
      "iter 7600 : loss=1.071e-01 : entanglement=4.75e-04 : last 10 iters in 4.160s\n",
      "iter 7700 : loss=1.068e-01 : entanglement=4.39e-04 : last 10 iters in 4.124s\n",
      "iter 7800 : loss=1.032e-01 : entanglement=4.82e-04 : last 10 iters in 4.155s\n",
      "iter 7900 : loss=1.051e-01 : entanglement=5.41e-04 : last 10 iters in 4.195s\n",
      "iter 8000 : loss=1.053e-01 : entanglement=5.58e-04 : last 10 iters in 4.228s\n",
      "iter 8100 : loss=1.063e-01 : entanglement=5.11e-04 : last 10 iters in 4.224s\n",
      "iter 8200 : loss=1.064e-01 : entanglement=5.91e-04 : last 10 iters in 4.285s\n",
      "iter 8300 : loss=1.036e-01 : entanglement=5.89e-04 : last 10 iters in 4.201s\n",
      "iter 8400 : loss=1.065e-01 : entanglement=5.15e-04 : last 10 iters in 4.307s\n",
      "iter 8500 : loss=1.041e-01 : entanglement=6.81e-04 : last 10 iters in 4.344s\n",
      "iter 8600 : loss=1.039e-01 : entanglement=4.47e-04 : last 10 iters in 4.293s\n",
      "iter 8700 : loss=1.035e-01 : entanglement=7.87e-04 : last 10 iters in 4.317s\n",
      "iter 8800 : loss=1.047e-01 : entanglement=8.44e-04 : last 10 iters in 4.324s\n",
      "iter 8900 : loss=1.053e-01 : entanglement=7.56e-04 : last 10 iters in 4.372s\n",
      "iter 9000 : loss=1.030e-01 : entanglement=6.96e-04 : last 10 iters in 4.400s\n",
      "iter 9100 : loss=1.038e-01 : entanglement=1.03e-03 : last 10 iters in 4.399s\n",
      "iter 9200 : loss=1.041e-01 : entanglement=7.93e-04 : last 10 iters in 4.428s\n",
      "iter 9300 : loss=9.924e-02 : entanglement=1.13e-03 : last 10 iters in 4.428s\n",
      "iter 9400 : loss=1.006e-01 : entanglement=6.01e-04 : last 10 iters in 4.451s\n",
      "iter 9500 : loss=1.023e-01 : entanglement=7.11e-04 : last 10 iters in 4.428s\n",
      "iter 9600 : loss=1.001e-01 : entanglement=5.78e-04 : last 10 iters in 4.449s\n",
      "iter 9700 : loss=1.041e-01 : entanglement=7.96e-04 : last 10 iters in 4.540s\n",
      "iter 9800 : loss=1.036e-01 : entanglement=9.06e-04 : last 10 iters in 4.548s\n",
      "iter 9900 : loss=1.031e-01 : entanglement=7.36e-04 : last 10 iters in 4.528s\n",
      "iter 10000 : loss=1.048e-01 : entanglement=5.82e-04 : last 10 iters in 4.440s\n"
     ]
    }
   ],
   "source": [
    "import time\n",
    "\n",
    "n_sgd_steps = 10000\n",
    "ep_steps = 5\n",
    "batch_eps = 16\n",
    "\n",
    "i = 1\n",
    "\n",
    "t_start = time.time()\n",
    "\n",
    "temp = 0\n",
    "\n",
    "while i < n_sgd_steps:\n",
    "    loss = torch.zeros(1).to(device)\n",
    "\n",
    "    for _ in range(batch_eps):\n",
    "        t_ep = -1\n",
    "        while t_ep < ep_steps:\n",
    "            if t_ep == -1:\n",
    "                obs_x = obs_env.reset()\n",
    "                obs_z = lat_env.reset(encoder(obs_x))\n",
    "            else:\n",
    "                action = obs_env.get_action()\n",
    "                obs_x = obs_env.step()\n",
    "                obs_z = lat_env.step(action)\n",
    "            \n",
    "            t_ep += 1         \n",
    "            \n",
    "            obs_x_recon = decoder(obs_z)\n",
    "\n",
    "            loss += F.binary_cross_entropy(obs_x_recon, obs_x)\n",
    "        \n",
    "    loss /= (ep_steps * batch_eps)\n",
    "    loss_raw = loss\n",
    "\n",
    "    reg_loss = sum([calc_entanglement(r.thetas) for r in lat_env.action_reps])/8\n",
    "    if i < 5000:\n",
    "        loss += reg_loss*1e-3\n",
    "    else:\n",
    "        loss += reg_loss*3e-2\n",
    "                        \n",
    "    losses.append(loss_raw.item())\n",
    "    entanglement.append(reg_loss.item())\n",
    "    \n",
    "    optimizer_dec.zero_grad()\n",
    "    optimizer_rep.zero_grad()\n",
    "    optimizer_enc.zero_grad()\n",
    "    loss.backward()\n",
    "    optimizer_dec.step()\n",
    "    optimizer_rep.step()\n",
    "    optimizer_enc.step()\n",
    "        \n",
    "    # Rember to clear the cached action representations after we update the parameters!\n",
    "    lat_env.clear_representations()\n",
    "\n",
    "    i+=1\n",
    "    \n",
    "    if i%10==0:\n",
    "        print(\"iter {} : loss={:.3e} : entanglement={:.2e} : last 10 iters in {:.3f}s\".format(\n",
    "            i, loss.item(), reg_loss.item(), time.time() - t_start\n",
    "            ), end=\"\\r\" if i%100 else \"\\n\")\n",
    "        t_start = time.time()"
   ]
  },
  {
   "cell_type": "markdown",
   "metadata": {},
   "source": [
    "### Show reconstructed states"
   ]
  },
  {
   "cell_type": "code",
   "execution_count": 18,
   "metadata": {
    "colab": {
     "base_uri": "https://localhost:8080/",
     "height": 221
    },
    "colab_type": "code",
    "id": "aG29CtCqjnsK",
    "outputId": "30d9e0b7-2d4a-46f8-9cf5-89e08127ce0c"
   },
   "outputs": [
    {
     "data": {
      "text/plain": [
       "<matplotlib.image.AxesImage at 0x7f9d126819b0>"
      ]
     },
     "execution_count": 18,
     "metadata": {},
     "output_type": "execute_result"
    },
    {
     "data": {
      "image/png": "[encoded data removed]",
      "text/plain": [
       "<Figure size 432x288 with 2 Axes>"
      ]
     },
     "metadata": {
      "needs_background": "light"
     },
     "output_type": "display_data"
    }
   ],
   "source": [
    "obs = env.reset()\n",
    "latent = encoder(obs)\n",
    "reconstructed = decoder(latent)\n",
    "\n",
    "fig, (ax1,ax2) = plt.subplots(1, 2)\n",
    "ax1.imshow(obs.to('cpu'))\n",
    "ax2.imshow(reconstructed.detach().to('cpu'))"
   ]
  },
  {
   "cell_type": "markdown",
   "metadata": {},
   "source": [
    "### Show action representations"
   ]
  },
  {
   "cell_type": "code",
   "execution_count": 20,
   "metadata": {
    "colab": {
     "base_uri": "https://localhost:8080/",
     "height": 267
    },
    "colab_type": "code",
    "id": "GsdakX_ejudz",
    "outputId": "c4ee05c1-63d4-4108-e055-7fdf8b02075f"
   },
   "outputs": [
    {
     "data": {
      "image/png": "[encoded data removed]",
      "text/plain": [
       "<Figure size 1200x400 with 2 Axes>"
      ]
     },
     "metadata": {},
     "output_type": "display_data"
    }
   ],
   "source": [
    "width=0.5\n",
    "\n",
    "rep_thetas = [rep.thetas.detach().to('cpu').numpy() for rep in lat_env.action_reps]\n",
    "#print(rep_thetas)\n",
    "plt_lim = max( 0.22, max([max(t) for t in rep_thetas])/(2*np.pi) )\n",
    "titles = [\"transformation +\", \"transformation -\"]\n",
    "cols=[\"r\",\"b\",\"g\",\"black\"]\n",
    "labels=[\"x\",\"y\",\"z\",\"color\"]\n",
    "\n",
    "with plt.style.context('seaborn-paper', after_reset=True):\n",
    "\n",
    "    fig, axs = plt.subplots(1, 2, figsize=(12, 4), gridspec_kw={\"wspace\":0.5, \"hspace\":0.5})\n",
    "    \n",
    "    for i, thetas in enumerate(rep_thetas):\n",
    "        x = np.arange(len(thetas))\n",
    "        axs[i%2].bar(x - width/2, thetas/(2*np.pi), width, label=labels[i//2], color=cols[i//2])\n",
    "    for i in range(2):\n",
    "        axs[i].hlines([0.2,-0.2], xmin=-10, xmax=10, linestyles=\"dashed\")\n",
    "        axs[i].hlines(0., xmin=-10, xmax=10)\n",
    "        axs[i].set_yticks([-0.2, 0., 0.2])\n",
    "        axs[i].set_xticks(x-0.25)\n",
    "        axs[i].set_xticklabels([\"12\",\"13\",\"14\",\"15\",\"23\",\"24\",\"25\",\"34\",\"35\",\"45\"], fontsize=10)\n",
    "        axs[i].set_xlabel(\"$ij$\", fontsize=20)\n",
    "        \n",
    "        axs[i].set_ylim(-plt_lim,plt_lim)\n",
    "        axs[i].set_xlim(-0.5,9)\n",
    "        axs[i].set_title(titles[i], fontsize=20)\n",
    "        axs[i].tick_params(labelsize=15)\n",
    "        \n",
    "        axs[i].set_ylabel(r\"$\\theta / 2\\pi$\", fontsize=20)\n",
    "    \n",
    "    axs[1].legend(loc=\"center right\", bbox_to_anchor=(1.5,0.5), fontsize=15)\n",
    "\n",
    "plt.savefig(\"teapot/representations.png\", bbox_inches='tight')"
   ]
  },
  {
   "cell_type": "markdown",
   "metadata": {},
   "source": [
    "### For the paper, generate sequence of images from the dataset"
   ]
  },
  {
   "cell_type": "code",
   "execution_count": null,
   "metadata": {
    "colab": {
     "base_uri": "https://localhost:8080/",
     "height": 357
    },
    "colab_type": "code",
    "id": "uJZ4cNiY_ISA",
    "outputId": "e3249049-b796-490e-ea7a-1eacc7384bc5"
   },
   "outputs": [],
   "source": [
    "import matplotlib.gridspec as gridspec\n",
    "from IPython import display\n",
    "\n",
    "plt.figure(figsize = (6,6))\n",
    "gs1 = gridspec.GridSpec(3, 3)\n",
    "gs1.update(wspace=0.02, hspace=0.02)\n",
    "plt.grid(None)\n",
    "state = env.reset()\n",
    "for i in range(9):\n",
    "    ax = plt.subplot(gs1[i])\n",
    "    ax.axis('off')\n",
    "    ax.set_aspect('equal')\n",
    "    ax.imshow(state.to('cpu'))\n",
    "    display.display(plt.gcf())\n",
    "    time.sleep(0.2)\n",
    "    display.clear_output(wait=True)\n",
    "    state = env.step()\n",
    "    \n",
    "plt.savefig(\"teapot/env.png\", bbox_inches='tight')"
   ]
  },
  {
   "cell_type": "code",
   "execution_count": null,
   "metadata": {
    "colab": {},
    "colab_type": "code",
    "id": "OMNfeCN7Nh4z"
   },
   "outputs": [],
   "source": []
  }
 ],
 "metadata": {
  "accelerator": "GPU",
  "colab": {
   "collapsed_sections": [],
   "name": "Teapot-firstsuccess.ipynb",
   "provenance": []
  },
  "kernelspec": {
   "display_name": "Python 3",
   "language": "python",
   "name": "python3"
  },
  "language_info": {
   "codemirror_mode": {
    "name": "ipython",
    "version": 3
   },
   "file_extension": ".py",
   "mimetype": "text/x-python",
   "name": "python",
   "nbconvert_exporter": "python",
   "pygments_lexer": "ipython3",
   "version": "3.6.9"
  }
 },
 "nbformat": 4,
 "nbformat_minor": 1
}
