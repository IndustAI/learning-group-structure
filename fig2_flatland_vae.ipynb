{
 "cells": [
  {
   "cell_type": "markdown",
   "metadata": {},
   "source": [
    "# Comparison of our method to VAEs on Flatland\n",
    "\n",
    "1) Load relevant libraries"
   ]
  },
  {
   "cell_type": "code",
   "execution_count": 1,
   "metadata": {},
   "outputs": [
    {
     "name": "stdout",
     "output_type": "stream",
     "text": [
      "pygame 1.9.6\n",
      "Hello from the pygame community. https://www.pygame.org/contribute.html\n",
      "Loading chipmunk for Linux (64bit) [/home/william/.local/lib/python3.6/site-packages/pymunk/libchipmunk.so]\n"
     ]
    }
   ],
   "source": [
    "import os\n",
    "import gym\n",
    "import math\n",
    "import numpy as np\n",
    "import time\n",
    "from PIL import Image\n",
    "import matplotlib.pyplot as plt\n",
    "from IPython import display\n",
    "import torch\n",
    "import random\n",
    "import torch.nn as nn\n",
    "import torch.nn.functional as F\n",
    "import torch.optim as optim\n",
    "from tqdm import tqdm\n",
    "\n",
    "os.chdir('src/flatland/flat_game/')\n",
    "from env import Env"
   ]
  },
  {
   "cell_type": "markdown",
   "metadata": {},
   "source": [
    "## Define environment"
   ]
  },
  {
   "cell_type": "code",
   "execution_count": 2,
   "metadata": {},
   "outputs": [],
   "source": [
    "class FlatWorld():\n",
    "    \n",
    "    class action_space():\n",
    "        def __init__(self,n_actions):\n",
    "            self.n = n_actions\n",
    "            \n",
    "        def sample(self, k=1):\n",
    "            return torch.randint(0,self.n,(k,))       \n",
    "\n",
    "    class observation_space():\n",
    "        def __init__(self):\n",
    "            self.shape = [84,84]\n",
    "    \n",
    "    def __init__(self, env_parameters, period=10, radius=15):\n",
    "\n",
    "        self.action_space = self.action_space(4)\n",
    "        self.observation_space = self.observation_space()  \n",
    "        self.period = period\n",
    "        \n",
    "        self.step_size = 0.1*(63-2*env_parameters['agent']['radius'])/period\n",
    "        start_positions_list = [27 + 10*self.step_size*i for i in range(period)]\n",
    "        self.start_positions = []\n",
    "        for i in start_positions_list:\n",
    "            for j in start_positions_list:\n",
    "                self.start_positions.append((i,j))\n",
    "                        \n",
    "        env_parameters['agent']['radius'] = radius\n",
    "        self.env = Env(**env_parameters)\n",
    "        \n",
    "    def reset(self, start_position=None):\n",
    "        if start_position==None:\n",
    "            obs = self.env.reset(position=random.sample(self.start_positions, 1)[0])\n",
    "        else:\n",
    "             obs = self.env.reset(position=start_position)\n",
    "        return torch.FloatTensor(obs)/255\n",
    "    \n",
    "    def step(self, action):\n",
    "        action_dict = self.create_action_dict(action)\n",
    "        obs, reward, done, info = self.env.step(action_dict)\n",
    "        return torch.FloatTensor(obs)/255\n",
    "    \n",
    "    def create_action_dict(self, action):\n",
    "        action_dict = {}\n",
    "        if action == 0:\n",
    "            action_dict['longitudinal_velocity'] = 0\n",
    "            action_dict['lateral_velocity'] = self.step_size\n",
    "            action_dict['angular_velocity'] = 0\n",
    "        if action == 1:\n",
    "            action_dict['longitudinal_velocity'] = 0\n",
    "            action_dict['lateral_velocity'] = -self.step_size\n",
    "            action_dict['angular_velocity'] = 0\n",
    "        if action == 2:\n",
    "            action_dict['longitudinal_velocity'] = self.step_size\n",
    "            action_dict['lateral_velocity'] = 0\n",
    "            action_dict['angular_velocity'] = 0\n",
    "        if action == 3:\n",
    "            action_dict['longitudinal_velocity'] = -self.step_size\n",
    "            action_dict['lateral_velocity'] = 0\n",
    "            action_dict['angular_velocity'] = 0\n",
    "        return action_dict\n",
    "        "
   ]
  },
  {
   "cell_type": "code",
   "execution_count": 3,
   "metadata": {},
   "outputs": [],
   "source": [
    "agent_parameters = {\n",
    "    'radius': 15,\n",
    "    'speed': 10,\n",
    "    'rotation_speed' : math.pi/8,\n",
    "    'living_penalty': 0,\n",
    "    'position': (30,30),\n",
    "    'angle': 0,\n",
    "    'sensors': [\n",
    "      \n",
    "        {\n",
    "           'nameSensor' : 'proximity_test',\n",
    "           'typeSensor': 'proximity',\n",
    "           'fovResolution': 64,\n",
    "           'fovRange': 300,\n",
    "           'fovAngle': math.pi ,\n",
    "           'bodyAnchor': 'body',\n",
    "           'd_r': 0,\n",
    "           'd_theta': 0,\n",
    "           'd_relativeOrientation': 0,\n",
    "           'display': False,\n",
    "        }\n",
    "        \n",
    "       \n",
    "    ],\n",
    "    'actions': ['forward', 'turn_left', 'turn_right', 'left', 'right', 'backward'],\n",
    "    'measurements': ['health', 'poisons', 'fruits'],\n",
    "    'texture': {\n",
    "        'type': 'color',\n",
    "        'c': (255, 255, 255)\n",
    "    },\n",
    "    'normalize_measurements': False,\n",
    "    'normalize_states': False,\n",
    "    'normalize_rewards': False\n",
    "}\n",
    "\n",
    "env_parameters = {\n",
    "    'map':False,\n",
    "    'n_rooms': 2,\n",
    "    'display': False,\n",
    "    'horizon': 10001,\n",
    "    'shape': (84, 84),\n",
    "    'mode': 'time',\n",
    "    'poisons': {\n",
    "        'number': 0,\n",
    "        'positions': 'random',\n",
    "        'size': 10,\n",
    "        'reward': -10,\n",
    "        'respawn': True,\n",
    "        'texture': {\n",
    "            'type': 'color',\n",
    "            'c': (255, 255, 255),\n",
    "        }\n",
    "    },\n",
    "    'fruits': {\n",
    "        'number': 0,\n",
    "        'positions': 'random',\n",
    "        'size': 10,\n",
    "        'reward': 10,\n",
    "        'respawn': True,\n",
    "        'texture': {\n",
    "            'type': 'color',\n",
    "            'c': (255, 150, 0),\n",
    "        }\n",
    "    },\n",
    "    'obstacles': [\n",
    "       \n",
    "    ],\n",
    "    'walls_texture': {\n",
    "        'type': 'color',\n",
    "        'c': (1, 1, 1)\n",
    "    },\n",
    "    'agent': agent_parameters\n",
    "}"
   ]
  },
  {
   "cell_type": "markdown",
   "metadata": {},
   "source": [
    "# Create Static Dataset"
   ]
  },
  {
   "cell_type": "code",
   "execution_count": 4,
   "metadata": {},
   "outputs": [
    {
     "name": "stderr",
     "output_type": "stream",
     "text": [
      "100%|██████████| 10000/10000 [00:09<00:00, 1027.39it/s]\n"
     ]
    }
   ],
   "source": [
    "N_DATA = 10000\n",
    "PERIOD=10\n",
    "RADIUS=15\n",
    "\n",
    "dataset = {}\n",
    "env = FlatWorld(env_parameters, period=PERIOD, radius=RADIUS)\n",
    "for i in tqdm(range(N_DATA)):\n",
    "    state = env.step(np.random.randint(0,4))\n",
    "    dataset[i] = state"
   ]
  },
  {
   "cell_type": "markdown",
   "metadata": {},
   "source": [
    "# Comparison to CCI-VAEs\n",
    "\n",
    "**1) Define CCI-VAE**\n",
    "\n",
    "Note: The following code derives from the pytorch repo on github https://github.com/pytorch/examples/blob/master/vae/main.py"
   ]
  },
  {
   "cell_type": "code",
   "execution_count": 8,
   "metadata": {},
   "outputs": [],
   "source": [
    "class Encoder(nn.Module):\n",
    "\n",
    "    def __init__(self, n_out=4, n_hid = 64, vmf=False):\n",
    "\n",
    "        super().__init__()\n",
    "\n",
    "        self.conv = nn.Conv2d(1, 5, 10, stride=3)\n",
    "        self.fc1 = nn.Linear(180, n_hid)\n",
    "        self.fc21 = nn.Linear(n_hid, n_out)\n",
    "        if vmf:\n",
    "            self.fc22 = nn.Linear(n_hid, 1)\n",
    "        else:\n",
    "            self.fc22 = nn.Linear(n_hid, n_out)\n",
    "\n",
    "    def forward(self, x):\n",
    "        if len(x.shape) == 2:\n",
    "            x = x.unsqueeze(0)\n",
    "        x = F.relu(self.conv(x.unsqueeze(1)))\n",
    "        x = F.max_pool2d(x, 4, 4)\n",
    "        x = x.view(-1, 180)\n",
    "        x = F.relu(self.fc1(x)).squeeze()\n",
    "        return self.fc21(x), self.fc22(x)\n",
    "\n",
    "class Decoder(nn.Module):\n",
    "    \n",
    "    def __init__(self, n_in=4, n_hid = 64):\n",
    "\n",
    "        super().__init__()\n",
    "        \n",
    "        self.fc1 = nn.Linear(n_in, n_hid)\n",
    "        self.fc2 = nn.Linear(n_hid, 180)\n",
    "        self.conv = nn.ConvTranspose2d(5, 1, 34, stride=10)\n",
    "\n",
    "    def forward(self, x):\n",
    "        x = F.relu(self.fc1(x))\n",
    "        x = F.relu(self.fc2(x))\n",
    "        x = x.view(-1,5,6,6)\n",
    "        x = self.conv(x)\n",
    "        return torch.sigmoid(x).squeeze()\n",
    "\n",
    "class CCIVAE(nn.Module):\n",
    "    def __init__(self, latent_dim = 4, final_capacity=25, final_capacity_step=10000):\n",
    "        super(CCIVAE, self).__init__()\n",
    "\n",
    "        self.encoder = Encoder(n_out=latent_dim)\n",
    "        self.decoder = Decoder(n_in=latent_dim)\n",
    "        self.final_capacity = final_capacity\n",
    "        self.final_capacity_step = final_capacity_step\n",
    "        self.capacity = 0\n",
    "        self.step = 0\n",
    "\n",
    "    def encode(self, x):\n",
    "        z, mu = self.encoder(x)\n",
    "        return z, mu\n",
    "\n",
    "    def reparameterize(self, mu, logvar):\n",
    "        std = torch.exp(0.5*logvar)\n",
    "        eps = torch.randn_like(std)\n",
    "        return mu + eps*std\n",
    "\n",
    "    def decode(self, z):\n",
    "        return self.decoder(z)\n",
    "\n",
    "    def forward(self, x):\n",
    "        mu, logvar = self.encode(x)\n",
    "        z = self.reparameterize(mu, logvar)\n",
    "        return self.decode(z), mu, logvar\n",
    "    \n",
    "    def update_capacity(self):\n",
    "        if self.step < self.final_capacity_step:\n",
    "            self.capacity += self.final_capacity/self.final_capacity_step\n",
    "        self.step += 1\n",
    "        return self.capacity\n",
    "    \n",
    "# Reconstruction + KL divergence losses summed over all elements and batch\n",
    "def loss_function(recon_x, x, mu, logvar, beta, capacity):\n",
    "    BCE = F.binary_cross_entropy(recon_x, x, reduction='mean')\n",
    "\n",
    "    # see Appendix B from VAE paper:\n",
    "    # Kingma and Welling. Auto-Encoding Variational Bayes. ICLR, 2014\n",
    "    # https://arxiv.org/abs/1312.6114\n",
    "    # 0.5 * sum(1 + log(sigma^2) - mu^2 - sigma^2)\n",
    "    KLD = -0.5 * torch.mean(1 + logvar - mu.pow(2) - logvar.exp())\n",
    "\n",
    "    return BCE + beta*torch.abs(KLD-capacity)"
   ]
  },
  {
   "cell_type": "markdown",
   "metadata": {},
   "source": [
    "**2) CCI-VAE Main training loop**"
   ]
  },
  {
   "cell_type": "code",
   "execution_count": 6,
   "metadata": {},
   "outputs": [
    {
     "name": "stderr",
     "output_type": "stream",
     "text": [
      "100%|██████████| 5000/5000 [03:14<00:00, 25.07it/s]"
     ]
    },
    {
     "name": "stdout",
     "output_type": "stream",
     "text": [
      "Loss on last batch was 0.0657295435667038\n"
     ]
    },
    {
     "name": "stderr",
     "output_type": "stream",
     "text": [
      "\n"
     ]
    }
   ],
   "source": [
    "LR = 1e-3\n",
    "N_STEPS = 5000\n",
    "BATCH_SIZE = 32\n",
    "BETA = 1\n",
    "LATENT_DIM = 4\n",
    "FINAL_CAPACITY = 1\n",
    "FINAL_CAPACITY_STEP = 5000\n",
    "\n",
    "vae = CCIVAE(\n",
    "    latent_dim = LATENT_DIM,\n",
    "    final_capacity = FINAL_CAPACITY,\n",
    "    final_capacity_step = FINAL_CAPACITY_STEP\n",
    ")\n",
    "optimizer = torch.optim.Adam(vae.parameters(), lr=LR, weight_decay=0)\n",
    "\n",
    "losses = []\n",
    "capacities = []\n",
    "for i in tqdm(range(N_STEPS)):\n",
    "    \n",
    "    batch = torch.stack(random.sample(list(dataset.values()), BATCH_SIZE))\n",
    "    recon_batch, mu, logvar = vae(batch)\n",
    "    capacity = vae.update_capacity()\n",
    "    loss = loss_function(recon_batch, batch, mu, logvar, BETA, capacity)\n",
    "    \n",
    "    losses.append(loss.detach())\n",
    "    capacities.append(capacity)\n",
    "    \n",
    "    optimizer.zero_grad()\n",
    "    loss.backward()\n",
    "    optimizer.step()\n",
    "    \n",
    "print(\"Loss on last batch was {}\".format(loss.detach()))"
   ]
  },
  {
   "cell_type": "code",
   "execution_count": 7,
   "metadata": {},
   "outputs": [
    {
     "data": {
      "text/plain": [
       "[<matplotlib.lines.Line2D at 0x7f4a35cd6390>]"
      ]
     },
     "execution_count": 7,
     "metadata": {},
     "output_type": "execute_result"
    },
    {
     "data": {
      "image/png": "[encoded data removed]",
      "text/plain": [
       "<Figure size 432x288 with 1 Axes>"
      ]
     },
     "metadata": {
      "needs_background": "light"
     },
     "output_type": "display_data"
    }
   ],
   "source": [
    "plt.plot(losses)"
   ]
  },
  {
   "cell_type": "markdown",
   "metadata": {},
   "source": [
    "**3) Inspect learned representations**\n",
    "\n",
    "First, check that the network can reconstruct the state"
   ]
  },
  {
   "cell_type": "code",
   "execution_count": 8,
   "metadata": {},
   "outputs": [
    {
     "data": {
      "image/png": "[encoded data removed]",
      "text/plain": [
       "<Figure size 432x288 with 2 Axes>"
      ]
     },
     "metadata": {},
     "output_type": "display_data"
    }
   ],
   "source": [
    "def plot_state(obs, ax):\n",
    "    ax.imshow(obs)\n",
    "    ax.set_aspect('equal')\n",
    "    ax.set_xticks([])\n",
    "    ax.set_yticks([])\n",
    "    \n",
    "    return ax\n",
    "    \n",
    "n_steps = 10\n",
    "\n",
    "fig, (ax1,ax2) = plt.subplots(1, 2)\n",
    "\n",
    "ax1.set_title(\"Ground truth\")\n",
    "ax2.set_title(\"Reconstruction\")\n",
    "\n",
    "for i in range(n_steps+1):\n",
    "    \n",
    "    if i==0:\n",
    "        action = \"N\\A\"\n",
    "        obs_x = env.reset()\n",
    "    else:\n",
    "        action = env.action_space.sample().item()\n",
    "        obs_x = env.step(action)\n",
    "        \n",
    "    obs_z, _ = vae.encode(obs_x.unsqueeze(0))\n",
    "    obs_x_recon = vae.decode(obs_z)\n",
    "    \n",
    "    fig.suptitle('step {} : last action = {}'.format(i, action), fontsize=16)\n",
    "    \n",
    "    plot_state(obs_x.detach().numpy(),ax1)\n",
    "    plot_state(obs_x_recon.detach().numpy(),ax2)\n",
    "    \n",
    "    display.clear_output(wait=True)\n",
    "    display.display(plt.gcf())\n",
    "    time.sleep(0.5)\n",
    "    \n",
    "display.clear_output(wait=False)"
   ]
  },
  {
   "cell_type": "markdown",
   "metadata": {},
   "source": [
    "Now show representations in latent space"
   ]
  },
  {
   "cell_type": "code",
   "execution_count": 9,
   "metadata": {},
   "outputs": [],
   "source": [
    "latent_points = []\n",
    "\n",
    "for start_position in env.start_positions:\n",
    "    obs = env.reset(start_position=start_position)\n",
    "    latent, _ = vae.encode(obs)\n",
    "    latent_points.append(latent.detach().tolist())\n",
    "\n",
    "latent_map = np.array(latent_points)"
   ]
  },
  {
   "cell_type": "code",
   "execution_count": 10,
   "metadata": {},
   "outputs": [
    {
     "name": "stderr",
     "output_type": "stream",
     "text": [
      "/home/william/.local/lib/python3.6/site-packages/ipykernel_launcher.py:24: UserWarning: Matplotlib is currently using module://ipykernel.pylab.backend_inline, which is a non-GUI backend, so cannot show the figure.\n"
     ]
    },
    {
     "data": {
      "image/png": "[encoded data removed]",
      "text/plain": [
       "<Figure size 432x288 with 1 Axes>"
      ]
     },
     "metadata": {
      "needs_background": "light"
     },
     "output_type": "display_data"
    }
   ],
   "source": [
    "period = env.period\n",
    "\n",
    "color=['#1f77b4', '#ff7f0e', '#2ca02c', '#d62728', '#9467bd', '#8c564b', '#e377c2', '#7f7f7f', '#bcbd22', '#17becf',\"#2fa36b\"]\n",
    "marks=[\"1\",\"2\",\"3\",\"4\",\"+\",\">\",\"<\",\"^\",\"v\",\"x\",\"d\"]\n",
    "\n",
    "main_dims = np.argsort(np.std(latent_map,axis=0))[-2:]\n",
    "fig = plt.figure(figsize=(6,4))\n",
    "ax = fig.add_subplot(111)#, projection='3d')\n",
    "s=[120]*5+[50]*6\n",
    "for i in range (period**2):\n",
    "    ax.scatter(x=latent_map[i,main_dims[0]],\n",
    "                y=latent_map[i,main_dims[1]],\n",
    "             #   zs=latent_2d.transpose()[2][i],\n",
    "                c=color[i//period], \n",
    "                s=s[i%period],\n",
    "                marker=marks[i%period])\n",
    " #   ax.set_xlim(-.6/1.4,.6/1.4)\n",
    "  #  ax.set_ylim(-.8/1.4,.8/1.4)\n",
    "  #  ax.set_zlim(-1./1.6,1./1.6)\n",
    "    #ax.view_init(elev=45, azim=45)\n",
    "plt.title('Representations - CCI-VAE',fontsize=16)\n",
    "plt.xticks(fontsize=14)\n",
    "plt.yticks(fontsize=14)\n",
    "fig.show()\n",
    "plt.savefig(\"ccivae.png\", bbox_inches='tight')"
   ]
  },
  {
   "cell_type": "markdown",
   "metadata": {},
   "source": [
    "# Comparison to hyperspherical VAEs\n",
    "\n",
    "### 1) Define and train hyperspherical VAE\n",
    "\n",
    "The following code derives from the pytorch repo on github https://github.com/nicola-decao/s-vae-pytorch"
   ]
  },
  {
   "cell_type": "code",
   "execution_count": 5,
   "metadata": {},
   "outputs": [],
   "source": [
    "os.chdir('../../..')\n",
    "from src.hyperspherical_utils import VonMisesFisher\n",
    "from src.hyperspherical_utils import HypersphericalUniform"
   ]
  },
  {
   "cell_type": "code",
   "execution_count": 9,
   "metadata": {},
   "outputs": [],
   "source": [
    "class HVAE(torch.nn.Module):\n",
    "    \n",
    "    def __init__(self, latent_dim=4, activation=F.relu, distribution='normal'):\n",
    "        \"\"\"\n",
    "        ModelVAE initializer\n",
    "        :param h_dim: dimension of the hidden layers\n",
    "        :param latent_dim: dimension of the latent representation\n",
    "        :param activation: callable activation function\n",
    "        :param distribution: string either `normal` or `vmf`, indicates which distribution to use\n",
    "        \"\"\"\n",
    "        super(HVAE, self).__init__()\n",
    "        \n",
    "        self.latent_dim, self.activation, self.distribution = latent_dim, activation, distribution\n",
    "        \n",
    "        self.decoder = Decoder(n_in=latent_dim)\n",
    "\n",
    "        if self.distribution == 'normal':\n",
    "            # compute mean and std of the normal distribution\n",
    "            self.encoder = Encoder(n_out=latent_dim)\n",
    "        elif self.distribution == 'vmf':\n",
    "            # compute mean and concentration of the von Mises-Fisher\n",
    "            self.encoder = Encoder(n_out=latent_dim, vmf=True)\n",
    "        else:\n",
    "            raise NotImplemented\n",
    "\n",
    "    def encode(self, x):\n",
    "        # 2 hidden layers encoder\n",
    "        \n",
    "        if self.distribution == 'normal':\n",
    "            # compute mean and std of the normal distribution\n",
    "            z_mean, z_var = self.encoder(x)\n",
    "            z_var = F.softplus(z_var)\n",
    "        elif self.distribution == 'vmf':\n",
    "            # compute mean and concentration of the von Mises-Fisher\n",
    "            z_mean, z_var = self.encoder(x)\n",
    "            z_mean = z_mean / z_mean.norm(dim=-1, keepdim=True)\n",
    "            # the `+ 1` prevent collapsing behaviors\n",
    "            z_var = F.softplus(z_var)+1\n",
    "        else:\n",
    "            raise NotImplemented\n",
    "                                \n",
    "        return z_mean, z_var\n",
    "        \n",
    "    def decode(self, z):\n",
    "        \n",
    "        return self.decoder(z)\n",
    "        \n",
    "    def reparameterize(self, z_mean, z_var):\n",
    "        if self.distribution == 'normal':\n",
    "            q_z = torch.distributions.normal.Normal(z_mean, z_var)\n",
    "            p_z = torch.distributions.normal.Normal(torch.zeros_like(z_mean), torch.ones_like(z_var))\n",
    "        elif self.distribution == 'vmf':\n",
    "            q_z = VonMisesFisher(z_mean, z_var)\n",
    "            p_z = HypersphericalUniform(self.latent_dim - 1)\n",
    "        else:\n",
    "            raise NotImplemented\n",
    "\n",
    "        return q_z, p_z\n",
    "        \n",
    "    def forward(self, x): \n",
    "        z_mean, z_var = self.encode(x)\n",
    "        q_z, p_z = self.reparameterize(z_mean, z_var)\n",
    "        z = q_z.rsample()\n",
    "        x_ = self.decode(z)\n",
    "        \n",
    "        return (z_mean, z_var), (q_z, p_z), z, x_\n",
    "    "
   ]
  },
  {
   "cell_type": "code",
   "execution_count": 10,
   "metadata": {},
   "outputs": [
    {
     "name": "stderr",
     "output_type": "stream",
     "text": [
      "100%|██████████| 5000/5000 [03:32<00:00, 23.51it/s]"
     ]
    },
    {
     "name": "stdout",
     "output_type": "stream",
     "text": [
      "Loss on last batch was 0.1433420479297638\n"
     ]
    },
    {
     "name": "stderr",
     "output_type": "stream",
     "text": [
      "\n"
     ]
    }
   ],
   "source": [
    "LR = 1e-3\n",
    "N_STEPS = 5000\n",
    "BATCH_SIZE = 32\n",
    "LATENT_DIM = 4\n",
    "DISTRIBUTION = 'vmf'\n",
    "BETA=0.02\n",
    "\n",
    "hvae = HVAE(latent_dim = LATENT_DIM, distribution = DISTRIBUTION)\n",
    "optimizer = torch.optim.Adam(hvae.parameters(), lr=LR, weight_decay=0)\n",
    "\n",
    "losses=[]\n",
    "for i in tqdm(range(N_STEPS)):\n",
    "    \n",
    "    batch = torch.stack(random.sample(list(dataset.values()), BATCH_SIZE))\n",
    "    \n",
    "    _, (q_z, p_z), _, recon_batch = hvae(batch)\n",
    "    loss_recon = F.binary_cross_entropy(recon_batch,batch)\n",
    "    \n",
    "    if hvae.distribution == 'normal':\n",
    "        loss_KL = torch.distributions.kl.kl_divergence(q_z, p_z).sum(-1).mean()\n",
    "    elif hvae.distribution == 'vmf':\n",
    "        loss_KL = torch.distributions.kl.kl_divergence(q_z, p_z).mean()\n",
    "    else:\n",
    "        raise NotImplemented\n",
    "\n",
    "    loss = loss_recon + BETA*loss_KL \n",
    "    \n",
    "    losses.append(loss.detach())\n",
    "    \n",
    "    optimizer.zero_grad()\n",
    "    loss.backward()\n",
    "    optimizer.step()\n",
    "    \n",
    "print(\"Loss on last batch was {}\".format(loss.detach()))"
   ]
  },
  {
   "cell_type": "code",
   "execution_count": 11,
   "metadata": {},
   "outputs": [
    {
     "data": {
      "text/plain": [
       "[<matplotlib.lines.Line2D at 0x7f6ff0a3ec18>]"
      ]
     },
     "execution_count": 11,
     "metadata": {},
     "output_type": "execute_result"
    },
    {
     "data": {
      "image/png": "[encoded data removed]",
      "text/plain": [
       "<Figure size 432x288 with 1 Axes>"
      ]
     },
     "metadata": {
      "needs_background": "light"
     },
     "output_type": "display_data"
    }
   ],
   "source": [
    "plt.plot(losses)"
   ]
  },
  {
   "cell_type": "markdown",
   "metadata": {},
   "source": [
    "### 2) Check that the HVAE correctly reconstructs the state"
   ]
  },
  {
   "cell_type": "code",
   "execution_count": 12,
   "metadata": {},
   "outputs": [
    {
     "data": {
      "image/png": "[encoded data removed]",
      "text/plain": [
       "<Figure size 432x288 with 2 Axes>"
      ]
     },
     "metadata": {},
     "output_type": "display_data"
    }
   ],
   "source": [
    "def plot_state(obs, ax):\n",
    "    ax.imshow(obs)\n",
    "    ax.set_aspect('equal')\n",
    "    ax.set_xticks([])\n",
    "    ax.set_yticks([])\n",
    "    \n",
    "    return ax\n",
    "    \n",
    "n_steps = 10\n",
    "\n",
    "fig, (ax1,ax2) = plt.subplots(1, 2)\n",
    "\n",
    "ax1.set_title(\"Ground truth\")\n",
    "ax2.set_title(\"Reconstruction\")\n",
    "\n",
    "for i in range(n_steps+1):\n",
    "    \n",
    "    if i==0:\n",
    "        action = \"N\\A\"\n",
    "        obs_x = env.reset()\n",
    "    else:\n",
    "        action = env.action_space.sample().item()\n",
    "        obs_x = env.step(action)\n",
    "        \n",
    "    obs_z, _ = hvae.encode(obs_x.unsqueeze(0))\n",
    "    obs_x_recon = hvae.decode(obs_z)\n",
    "    \n",
    "    #_, (q_z, p_z), _, obs_x_recon = hvae(obs_x.unsqueeze(0))\n",
    "    \n",
    "    fig.suptitle('step {} : last action = {}'.format(i, action), fontsize=16)\n",
    "    \n",
    "    plot_state(obs_x.detach().numpy(),ax1)\n",
    "    plot_state(obs_x_recon.detach().numpy(),ax2)\n",
    "    \n",
    "    display.clear_output(wait=True)\n",
    "    display.display(plt.gcf())\n",
    "    time.sleep(0.5)\n",
    "    \n",
    "display.clear_output(wait=False)"
   ]
  },
  {
   "cell_type": "markdown",
   "metadata": {},
   "source": [
    "### 3) Inspect learned representations\n",
    "\n",
    "Random projections do not work well to visually inspect the representations. Instead, we remove the least important axis of the latent representations (determined by the std) and do a Hammer projection of the resulting 3D coordinates."
   ]
  },
  {
   "cell_type": "code",
   "execution_count": 13,
   "metadata": {},
   "outputs": [
    {
     "name": "stderr",
     "output_type": "stream",
     "text": [
      "/home/william/Bureau/Projects/Article Robin/Code/src/flatland/flat_game/sensors/proximity_sensor.py:42: RuntimeWarning: invalid value encountered in not_equal\n",
      "  mask = resized_img != 0\n"
     ]
    }
   ],
   "source": [
    "latent_points = []\n",
    "\n",
    "for start_position in env.start_positions:\n",
    "    obs = env.reset(start_position=start_position)\n",
    "    latent, _ = hvae.encode(obs)\n",
    "    latent_points.append(latent.detach().tolist())\n",
    "\n",
    "latent_map = np.array(latent_points)"
   ]
  },
  {
   "cell_type": "code",
   "execution_count": 14,
   "metadata": {},
   "outputs": [],
   "source": [
    "least_important_dim = latent_map.std(axis=0).argmin()\n",
    "axes_to_select = []\n",
    "for i in range(LATENT_DIM):\n",
    "    if i != least_important_dim:\n",
    "        axes_to_select.append(i)\n",
    "latent_map = latent_map[:,axes_to_select]\n",
    "                        \n",
    "latitudes = np.pi/2-np.arccos(latent_map[:,2])\n",
    "longitudes = np.arctan2(latent_map[:,0],latent_map[:,1])\n",
    "new_z = np.sqrt(1+np.cos(latitudes)*np.cos(longitudes/2))\n",
    "new_x = np.cos(latitudes) * np.sin(longitudes/2) / new_z\n",
    "new_y = np.sin(latitudes) / new_z"
   ]
  },
  {
   "cell_type": "code",
   "execution_count": 16,
   "metadata": {
    "scrolled": true
   },
   "outputs": [
    {
     "name": "stderr",
     "output_type": "stream",
     "text": [
      "/home/william/.local/lib/python3.6/site-packages/ipykernel_launcher.py:16: UserWarning: Matplotlib is currently using module://ipykernel.pylab.backend_inline, which is a non-GUI backend, so cannot show the figure.\n",
      "  app.launch_new_instance()\n"
     ]
    },
    {
     "data": {
      "image/png": "[encoded data removed]",
      "text/plain": [
       "<Figure size 432x288 with 1 Axes>"
      ]
     },
     "metadata": {
      "needs_background": "light"
     },
     "output_type": "display_data"
    }
   ],
   "source": [
    "period = env.period\n",
    "\n",
    "color=['#1f77b4', '#ff7f0e', '#2ca02c', '#d62728', '#9467bd', '#8c564b', '#e377c2', '#7f7f7f', '#bcbd22', '#17becf',\"#2fa36b\"]\n",
    "marks=[\"1\",\"2\",\"3\",\"4\",\"+\",\">\",\"<\",\"^\",\"v\",\"x\",\"d\"]\n",
    "s=[120]*5+[50]*6\n",
    "fig = plt.figure(figsize=(6,4))\n",
    "ax = fig.add_subplot(111)\n",
    "for i in range (period**2):\n",
    "    ax.scatter(new_x[i],new_y[i],\n",
    "                c=color[i//period], \n",
    "                s=s[i%period],\n",
    "                marker=marks[i%period])\n",
    "plt.title('Representations - HVAE',fontsize=16)\n",
    "plt.xticks(fontsize=14)\n",
    "plt.yticks(fontsize=14)\n",
    "fig.show()\n",
    "plt.savefig(\"hvae.png\", bbox_inches='tight')"
   ]
  },
  {
   "cell_type": "code",
   "execution_count": null,
   "metadata": {},
   "outputs": [],
   "source": []
  }
 ],
 "metadata": {
  "kernelspec": {
   "display_name": "Python 3",
   "language": "python",
   "name": "python3"
  },
  "language_info": {
   "codemirror_mode": {
    "name": "ipython",
    "version": 3
   },
   "file_extension": ".py",
   "mimetype": "text/x-python",
   "name": "python",
   "nbconvert_exporter": "python",
   "pygments_lexer": "ipython3",
   "version": "3.6.9"
  }
 },
 "nbformat": 4,
 "nbformat_minor": 2
}
